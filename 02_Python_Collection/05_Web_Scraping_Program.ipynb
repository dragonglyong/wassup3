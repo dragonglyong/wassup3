{
 "cells": [
  {
   "cell_type": "markdown",
   "id": "8dc34501-3b35-48c8-a387-20452436d38b",
   "metadata": {},
   "source": [
    "# 웹 스크래핑 프로그램 만들어보자\n",
    "1. 예제 페이지에서 여행기사를 추출한다.\n",
    "https://korean.visitkorea.or.kr/main/main.do\n",
    "2. 검색어와 스크래핑 건수를 입력받는다.\n",
    "3. 페이지를 이동한다.\n",
    "4. 상세 페이지별로 여행기사 정보를 수집한다.\n",
    "5. 이미지와 텍스트를 추출해서 파일로 저장까지"
   ]
  },
  {
   "cell_type": "code",
   "execution_count": 296,
   "id": "6b7f266f-be2d-404a-83ae-6cb3204e77fb",
   "metadata": {
    "tags": []
   },
   "outputs": [],
   "source": [
    "from selenium import webdriver\n",
    "from selenium.webdriver.common.by import By\n",
    "from selenium.webdriver.chrome.options import Options\n",
    "import math, time\n",
    "\n",
    "options = Options()\n",
    "options.add_argument('--window-size=974,1047')\n",
    "options.add_argument('--window-position=-7,0')\n",
    "options.add_experimental_option(\"detach\", True)"
   ]
  },
  {
   "cell_type": "code",
   "execution_count": 298,
   "id": "19d6644d-1c66-447d-81fc-c4244c2106b8",
   "metadata": {
    "tags": []
   },
   "outputs": [
    {
     "name": "stdin",
     "output_type": "stream",
     "text": [
      "검색어: 제주도\n",
      "크롤링 할 건수는 몇건입니까?:  15\n"
     ]
    }
   ],
   "source": [
    "search = input('검색어:')\n",
    "cnt = int(input('크롤링 할 건수는 몇건입니까?: '))\n",
    "page_cnt = math.ceil(cnt / 10)  # 크롤링 할 전체 페이지 수 "
   ]
  },
  {
   "cell_type": "code",
   "execution_count": 300,
   "id": "9a089579-7a80-408b-821b-a96e805ae62c",
   "metadata": {
    "tags": []
   },
   "outputs": [],
   "source": [
    "URL = 'https://korean.visitkorea.or.kr/search/search_list.do?keyword='+search\n",
    "driver = webdriver.Chrome(options=options)\n",
    "driver.get(URL)\n",
    "time.sleep(3)"
   ]
  },
  {
   "cell_type": "code",
   "execution_count": 301,
   "id": "82878602-4036-4196-bcbc-ae12b25e1dc5",
   "metadata": {
    "tags": []
   },
   "outputs": [],
   "source": [
    "# 여행기사 더보기 클릭\n",
    "# driver.find_element(By.CSS_SELECTOR, \".more_view\").click() 중복주의\n",
    "driver.find_element(By.CSS_SELECTOR, \"#s_recommend > .more_view > a\").click()"
   ]
  },
  {
   "cell_type": "code",
   "execution_count": 302,
   "id": "26456ae2-ea6c-4635-af2f-0065c72f17a1",
   "metadata": {
    "tags": []
   },
   "outputs": [
    {
     "data": {
      "text/plain": [
       "34"
      ]
     },
     "execution_count": 302,
     "metadata": {},
     "output_type": "execute_result"
    }
   ],
   "source": [
    "# 제목 추출\n",
    "# 왜 길이가 34일까?\n",
    "result = driver.find_elements(By.CSS_SELECTOR,'.tit a')\n",
    "len(result)"
   ]
  },
  {
   "cell_type": "code",
   "execution_count": 306,
   "id": "99f5cd6a-41a3-420a-8c9c-b618dfa80676",
   "metadata": {
    "tags": []
   },
   "outputs": [
    {
     "name": "stdout",
     "output_type": "stream",
     "text": [
      "\n",
      "\n",
      "\n",
      "\n",
      "\n",
      "\n",
      "\n",
      "\n",
      "\n",
      "\n",
      "\n",
      "\n",
      "\n",
      "\n",
      "\n",
      "\n",
      "\n",
      "\n",
      "\n",
      "\n",
      "\n",
      "\n",
      "\n",
      "\n",
      "해변산책부터 레이싱까지, 제주 반려동물 동반여행 추천 코스\n",
      "제주도가 품은 신비의 화산 숲, 환상숲곶자왈공원\n",
      "한국관광공사 추천 2월 걷기여행길, 이른 봄을 맞이하는 제주도 걷기길\n",
      "제주도의 숨겨진 재미를 찾는\n",
      "<놀멍, 배우멍 제주마을체험 - 1일형 체험학습>\n",
      "제주도 조천읍 버킷리스트 여행지 작성하기\n",
      "김창열의 회귀 철학을 건축으로 표현한 미술관, 제주도립김창열미술관\n",
      "[국내 트레킹 추천]\n",
      "제주 올레길 걷기 여행,\n",
      "준비부터 코스 선택까지 꿀팁 총정리!\n",
      "4월 제주도 가볼 만한, 가파도 청보리 축제\n",
      "제주도 유채꽃 명소 추천, 봄에 떠나는 인생샷 여행\n",
      "소소한 '제주여행' 꿀팁! 〈겨울편〉\n"
     ]
    }
   ],
   "source": [
    "for i in result:\n",
    "    print(i.text)"
   ]
  },
  {
   "cell_type": "markdown",
   "id": "9927ce6c-ecdb-4811-9263-e90ae1c492c0",
   "metadata": {},
   "source": [
    "### [주의] 동적처리로 인해 숨겨진 코드 정보가 추출된 것\n",
    "div class \"search_all_bg\"에 숨겨져 있음"
   ]
  },
  {
   "cell_type": "code",
   "execution_count": 309,
   "id": "cc0ca3b9-85d0-4afa-97ce-76c2d8f3565e",
   "metadata": {
    "tags": []
   },
   "outputs": [
    {
     "data": {
      "text/plain": [
       "10"
      ]
     },
     "execution_count": 309,
     "metadata": {},
     "output_type": "execute_result"
    }
   ],
   "source": [
    "# 더 정확하게 찾아주자\n",
    "result = driver.find_elements(By.CSS_SELECTOR,'#search_result .tit>a')\n",
    "len(result)"
   ]
  },
  {
   "cell_type": "code",
   "execution_count": 315,
   "id": "a5a4cade-5652-4b62-b44c-a26f267bb7a2",
   "metadata": {
    "tags": []
   },
   "outputs": [
    {
     "name": "stdout",
     "output_type": "stream",
     "text": [
      "======= [ 1 ]  =======\n",
      "해변산책부터 레이싱까지, 제주 반려동물 동반여행 추천 코스\n",
      "======= [ 2 ]  =======\n",
      "제주도가 품은 신비의 화산 숲, 환상숲곶자왈공원\n",
      "======= [ 3 ]  =======\n",
      "한국관광공사 추천 2월 걷기여행길, 이른 봄을 맞이하는 제주도 걷기길\n",
      "======= [ 4 ]  =======\n",
      "제주도의 숨겨진 재미를 찾는 <놀멍, 배우멍 제주마을체험 - 1일형 체험학습>\n",
      "======= [ 5 ]  =======\n",
      "제주도 조천읍 버킷리스트 여행지 작성하기\n",
      "======= [ 6 ]  =======\n",
      "김창열의 회귀 철학을 건축으로 표현한 미술관, 제주도립김창열미술관\n",
      "======= [ 7 ]  =======\n",
      "[국내 트레킹 추천] 제주 올레길 걷기 여행, 준비부터 코스 선택까지 꿀팁 총정리!\n",
      "======= [ 8 ]  =======\n",
      "4월 제주도 가볼 만한, 가파도 청보리 축제\n",
      "======= [ 9 ]  =======\n",
      "제주도 유채꽃 명소 추천, 봄에 떠나는 인생샷 여행\n",
      "======= [ 10 ]  =======\n",
      "소소한 ‘제주여행’ 꿀팁! 〈겨울편〉\n",
      "==== 완료 ====\n"
     ]
    }
   ],
   "source": [
    "# 한페이지내 콘텐츠별 상세페이지 정보를 추출해보자\n",
    "# 페이지 로딩시간 고려해서 넉넉히 2~3초 간격을 주자\n",
    "from bs4 import BeautifulSoup\n",
    "contents_no = 0\n",
    "\n",
    "for item in result:\n",
    "    result = driver.find_elements(By.CSS_SELECTOR,'#search_result .tit>a')\n",
    "    item = result[contents_no]\n",
    "    contents_no += 1\n",
    "    item.click()\n",
    "    time.sleep(3)  \n",
    "    \n",
    "    print(f'======= [ {contents_no} ]  =======')\n",
    "    html = driver.page_source\n",
    "\n",
    "    soup = BeautifulSoup(html, 'lxml')\n",
    "    title = soup.find(id='topTitle')\n",
    "    print(title.text)\n",
    "\n",
    "    driver.back()\n",
    "    time.sleep(3)\n",
    "\n",
    "print('==== 완료 ====')\n"
   ]
  },
  {
   "cell_type": "code",
   "execution_count": 316,
   "id": "90cf1c9d-34e6-4878-b9bd-45d4df0eead0",
   "metadata": {
    "tags": []
   },
   "outputs": [
    {
     "data": {
      "text/plain": [
       "'해변산책부터 레이싱까지, 제주 반려동물 동반여행 추천 코스'"
      ]
     },
     "execution_count": 316,
     "metadata": {},
     "output_type": "execute_result"
    }
   ],
   "source": [
    "result = driver.find_elements(By.CSS_SELECTOR,'#search_result .tit>a')\n",
    "result[0].text"
   ]
  },
  {
   "cell_type": "code",
   "execution_count": 317,
   "id": "d302d6c5-e1b9-4219-a87e-01b851320626",
   "metadata": {
    "collapsed": true,
    "jupyter": {
     "outputs_hidden": true
    },
    "tags": []
   },
   "outputs": [
    {
     "ename": "StaleElementReferenceException",
     "evalue": "Message: stale element reference: stale element not found\n  (Session info: chrome=126.0.6478.115); For documentation on this error, please visit: https://www.selenium.dev/documentation/webdriver/troubleshooting/errors#stale-element-reference-exception\nStacktrace:\n\tGetHandleVerifier [0x00007FF6E63CEEA2+31554]\n\t(No symbol) [0x00007FF6E6347ED9]\n\t(No symbol) [0x00007FF6E620872A]\n\t(No symbol) [0x00007FF6E621ADBD]\n\t(No symbol) [0x00007FF6E621B84A]\n\t(No symbol) [0x00007FF6E620F5BB]\n\t(No symbol) [0x00007FF6E620D326]\n\t(No symbol) [0x00007FF6E6210EB1]\n\t(No symbol) [0x00007FF6E6210F50]\n\t(No symbol) [0x00007FF6E6259192]\n\t(No symbol) [0x00007FF6E6259272]\n\t(No symbol) [0x00007FF6E624F119]\n\t(No symbol) [0x00007FF6E627D02A]\n\t(No symbol) [0x00007FF6E624BA76]\n\t(No symbol) [0x00007FF6E627D240]\n\t(No symbol) [0x00007FF6E629C977]\n\t(No symbol) [0x00007FF6E627CDD3]\n\t(No symbol) [0x00007FF6E624A33B]\n\t(No symbol) [0x00007FF6E624AED1]\n\tGetHandleVerifier [0x00007FF6E66D8B1D+3217341]\n\tGetHandleVerifier [0x00007FF6E6725AE3+3532675]\n\tGetHandleVerifier [0x00007FF6E671B0E0+3489152]\n\tGetHandleVerifier [0x00007FF6E647E776+750614]\n\t(No symbol) [0x00007FF6E635375F]\n\t(No symbol) [0x00007FF6E634EB14]\n\t(No symbol) [0x00007FF6E634ECA2]\n\t(No symbol) [0x00007FF6E633E16F]\n\tBaseThreadInitThunk [0x00007FFB1074257D+29]\n\tRtlUserThreadStart [0x00007FFB1264AF28+40]\n",
     "output_type": "error",
     "traceback": [
      "\u001b[1;31m---------------------------------------------------------------------------\u001b[0m",
      "\u001b[1;31mStaleElementReferenceException\u001b[0m            Traceback (most recent call last)",
      "Cell \u001b[1;32mIn[317], line 3\u001b[0m\n\u001b[0;32m      1\u001b[0m \u001b[38;5;66;03m# result[0].click() ## 에러 잘남\u001b[39;00m\n\u001b[0;32m      2\u001b[0m \u001b[38;5;28;01mfrom\u001b[39;00m \u001b[38;5;21;01mselenium\u001b[39;00m\u001b[38;5;21;01m.\u001b[39;00m\u001b[38;5;21;01mwebdriver\u001b[39;00m\u001b[38;5;21;01m.\u001b[39;00m\u001b[38;5;21;01mcommon\u001b[39;00m\u001b[38;5;21;01m.\u001b[39;00m\u001b[38;5;21;01mkeys\u001b[39;00m \u001b[38;5;28;01mimport\u001b[39;00m Keys\n\u001b[1;32m----> 3\u001b[0m item\u001b[38;5;241m.\u001b[39msend_keys(Keys\u001b[38;5;241m.\u001b[39mENTER)\n",
      "File \u001b[1;32m~\\anaconda3\\Lib\\site-packages\\selenium\\webdriver\\remote\\webelement.py:231\u001b[0m, in \u001b[0;36mWebElement.send_keys\u001b[1;34m(self, *value)\u001b[0m\n\u001b[0;32m    228\u001b[0m             remote_files\u001b[38;5;241m.\u001b[39mappend(\u001b[38;5;28mself\u001b[39m\u001b[38;5;241m.\u001b[39m_upload(file))\n\u001b[0;32m    229\u001b[0m         value \u001b[38;5;241m=\u001b[39m \u001b[38;5;124m\"\u001b[39m\u001b[38;5;130;01m\\n\u001b[39;00m\u001b[38;5;124m\"\u001b[39m\u001b[38;5;241m.\u001b[39mjoin(remote_files)\n\u001b[1;32m--> 231\u001b[0m \u001b[38;5;28mself\u001b[39m\u001b[38;5;241m.\u001b[39m_execute(\n\u001b[0;32m    232\u001b[0m     Command\u001b[38;5;241m.\u001b[39mSEND_KEYS_TO_ELEMENT, {\u001b[38;5;124m\"\u001b[39m\u001b[38;5;124mtext\u001b[39m\u001b[38;5;124m\"\u001b[39m: \u001b[38;5;124m\"\u001b[39m\u001b[38;5;124m\"\u001b[39m\u001b[38;5;241m.\u001b[39mjoin(keys_to_typing(value)), \u001b[38;5;124m\"\u001b[39m\u001b[38;5;124mvalue\u001b[39m\u001b[38;5;124m\"\u001b[39m: keys_to_typing(value)}\n\u001b[0;32m    233\u001b[0m )\n",
      "File \u001b[1;32m~\\anaconda3\\Lib\\site-packages\\selenium\\webdriver\\remote\\webelement.py:395\u001b[0m, in \u001b[0;36mWebElement._execute\u001b[1;34m(self, command, params)\u001b[0m\n\u001b[0;32m    393\u001b[0m     params \u001b[38;5;241m=\u001b[39m {}\n\u001b[0;32m    394\u001b[0m params[\u001b[38;5;124m\"\u001b[39m\u001b[38;5;124mid\u001b[39m\u001b[38;5;124m\"\u001b[39m] \u001b[38;5;241m=\u001b[39m \u001b[38;5;28mself\u001b[39m\u001b[38;5;241m.\u001b[39m_id\n\u001b[1;32m--> 395\u001b[0m \u001b[38;5;28;01mreturn\u001b[39;00m \u001b[38;5;28mself\u001b[39m\u001b[38;5;241m.\u001b[39m_parent\u001b[38;5;241m.\u001b[39mexecute(command, params)\n",
      "File \u001b[1;32m~\\anaconda3\\Lib\\site-packages\\selenium\\webdriver\\remote\\webdriver.py:354\u001b[0m, in \u001b[0;36mWebDriver.execute\u001b[1;34m(self, driver_command, params)\u001b[0m\n\u001b[0;32m    352\u001b[0m response \u001b[38;5;241m=\u001b[39m \u001b[38;5;28mself\u001b[39m\u001b[38;5;241m.\u001b[39mcommand_executor\u001b[38;5;241m.\u001b[39mexecute(driver_command, params)\n\u001b[0;32m    353\u001b[0m \u001b[38;5;28;01mif\u001b[39;00m response:\n\u001b[1;32m--> 354\u001b[0m     \u001b[38;5;28mself\u001b[39m\u001b[38;5;241m.\u001b[39merror_handler\u001b[38;5;241m.\u001b[39mcheck_response(response)\n\u001b[0;32m    355\u001b[0m     response[\u001b[38;5;124m\"\u001b[39m\u001b[38;5;124mvalue\u001b[39m\u001b[38;5;124m\"\u001b[39m] \u001b[38;5;241m=\u001b[39m \u001b[38;5;28mself\u001b[39m\u001b[38;5;241m.\u001b[39m_unwrap_value(response\u001b[38;5;241m.\u001b[39mget(\u001b[38;5;124m\"\u001b[39m\u001b[38;5;124mvalue\u001b[39m\u001b[38;5;124m\"\u001b[39m, \u001b[38;5;28;01mNone\u001b[39;00m))\n\u001b[0;32m    356\u001b[0m     \u001b[38;5;28;01mreturn\u001b[39;00m response\n",
      "File \u001b[1;32m~\\anaconda3\\Lib\\site-packages\\selenium\\webdriver\\remote\\errorhandler.py:229\u001b[0m, in \u001b[0;36mErrorHandler.check_response\u001b[1;34m(self, response)\u001b[0m\n\u001b[0;32m    227\u001b[0m         alert_text \u001b[38;5;241m=\u001b[39m value[\u001b[38;5;124m\"\u001b[39m\u001b[38;5;124malert\u001b[39m\u001b[38;5;124m\"\u001b[39m]\u001b[38;5;241m.\u001b[39mget(\u001b[38;5;124m\"\u001b[39m\u001b[38;5;124mtext\u001b[39m\u001b[38;5;124m\"\u001b[39m)\n\u001b[0;32m    228\u001b[0m     \u001b[38;5;28;01mraise\u001b[39;00m exception_class(message, screen, stacktrace, alert_text)  \u001b[38;5;66;03m# type: ignore[call-arg]  # mypy is not smart enough here\u001b[39;00m\n\u001b[1;32m--> 229\u001b[0m \u001b[38;5;28;01mraise\u001b[39;00m exception_class(message, screen, stacktrace)\n",
      "\u001b[1;31mStaleElementReferenceException\u001b[0m: Message: stale element reference: stale element not found\n  (Session info: chrome=126.0.6478.115); For documentation on this error, please visit: https://www.selenium.dev/documentation/webdriver/troubleshooting/errors#stale-element-reference-exception\nStacktrace:\n\tGetHandleVerifier [0x00007FF6E63CEEA2+31554]\n\t(No symbol) [0x00007FF6E6347ED9]\n\t(No symbol) [0x00007FF6E620872A]\n\t(No symbol) [0x00007FF6E621ADBD]\n\t(No symbol) [0x00007FF6E621B84A]\n\t(No symbol) [0x00007FF6E620F5BB]\n\t(No symbol) [0x00007FF6E620D326]\n\t(No symbol) [0x00007FF6E6210EB1]\n\t(No symbol) [0x00007FF6E6210F50]\n\t(No symbol) [0x00007FF6E6259192]\n\t(No symbol) [0x00007FF6E6259272]\n\t(No symbol) [0x00007FF6E624F119]\n\t(No symbol) [0x00007FF6E627D02A]\n\t(No symbol) [0x00007FF6E624BA76]\n\t(No symbol) [0x00007FF6E627D240]\n\t(No symbol) [0x00007FF6E629C977]\n\t(No symbol) [0x00007FF6E627CDD3]\n\t(No symbol) [0x00007FF6E624A33B]\n\t(No symbol) [0x00007FF6E624AED1]\n\tGetHandleVerifier [0x00007FF6E66D8B1D+3217341]\n\tGetHandleVerifier [0x00007FF6E6725AE3+3532675]\n\tGetHandleVerifier [0x00007FF6E671B0E0+3489152]\n\tGetHandleVerifier [0x00007FF6E647E776+750614]\n\t(No symbol) [0x00007FF6E635375F]\n\t(No symbol) [0x00007FF6E634EB14]\n\t(No symbol) [0x00007FF6E634ECA2]\n\t(No symbol) [0x00007FF6E633E16F]\n\tBaseThreadInitThunk [0x00007FFB1074257D+29]\n\tRtlUserThreadStart [0x00007FFB1264AF28+40]\n"
     ]
    }
   ],
   "source": [
    "# result[0].click() ## 에러 잘남\n",
    "from selenium.webdriver.common.keys import Keys\n",
    "item.send_keys(Keys.ENTER)"
   ]
  },
  {
   "cell_type": "code",
   "execution_count": 321,
   "id": "2ccdafe9-d413-4fff-8fcc-99e2f99f4df0",
   "metadata": {
    "tags": []
   },
   "outputs": [],
   "source": [
    "from selenium.webdriver.common.keys import Keys\n",
    "\n",
    "def page_work():\n",
    "    result = driver.find_elements(By.CSS_SELECTOR,'#search_result .tit>a')\n",
    "    global contents_no, cnt\n",
    "    contents_no = 0  # 인덱스 초기화\n",
    "    \n",
    "    for item in result:\n",
    "        result = driver.find_elements(By.CSS_SELECTOR,'#search_result .tit>a')\n",
    "        item = result[contents_no]\n",
    "        if contents_no <= cnt :\n",
    "            contents_no += 1\n",
    "            print(f'[콘텐츠 {contents_no}]')  \n",
    "            item.send_keys(Keys.ENTER) # .click()은 에러 잘남\n",
    "\n",
    "            time.sleep(2)\n",
    "            html = driver.page_source\n",
    "            html_dom = BeautifulSoup(html, 'lxml')\n",
    "\n",
    "            title = html_dom.find(id='topTitle')\n",
    "            print(title.text)\n",
    "            driver.back()\n",
    "            time.sleep(2)     "
   ]
  },
  {
   "cell_type": "markdown",
   "id": "0d779f17-a2e0-4c94-8adc-3b005649c27b",
   "metadata": {},
   "source": [
    "## 페이지이동 스크래핑"
   ]
  },
  {
   "cell_type": "code",
   "execution_count": 324,
   "id": "50802801-6ac7-48c1-8b36-bf236b76cbac",
   "metadata": {
    "tags": []
   },
   "outputs": [
    {
     "name": "stdout",
     "output_type": "stream",
     "text": [
      "스크래핑 프로그램 실행\n",
      "====== 1 페이지 스크래핑 시작 ======\n",
      "[콘텐츠 1]\n",
      "해변산책부터 레이싱까지, 제주 반려동물 동반여행 추천 코스\n",
      "[콘텐츠 2]\n",
      "제주도가 품은 신비의 화산 숲, 환상숲곶자왈공원\n",
      "[콘텐츠 3]\n",
      "한국관광공사 추천 2월 걷기여행길, 이른 봄을 맞이하는 제주도 걷기길\n",
      "[콘텐츠 4]\n",
      "제주도의 숨겨진 재미를 찾는 <놀멍, 배우멍 제주마을체험 - 1일형 체험학습>\n",
      "[콘텐츠 5]\n",
      "제주도 조천읍 버킷리스트 여행지 작성하기\n",
      "[콘텐츠 6]\n",
      "김창열의 회귀 철학을 건축으로 표현한 미술관, 제주도립김창열미술관\n",
      "[콘텐츠 7]\n",
      "[국내 트레킹 추천] 제주 올레길 걷기 여행, 준비부터 코스 선택까지 꿀팁 총정리!\n",
      "[콘텐츠 8]\n",
      "4월 제주도 가볼 만한, 가파도 청보리 축제\n",
      "[콘텐츠 9]\n",
      "제주도 유채꽃 명소 추천, 봄에 떠나는 인생샷 여행\n",
      "[콘텐츠 10]\n",
      "소소한 ‘제주여행’ 꿀팁! 〈겨울편〉\n",
      "====== 1 페이지 스크래핑 완료 ======\n",
      "====== 2 페이지 스크래핑 시작 ======\n",
      "[콘텐츠 1]\n",
      "연말연시 제주도 여행 추천 코스, 가족여행 가볼 만한 곳\n",
      "[콘텐츠 2]\n",
      "새하얀 눈으로 덮인 제주도 설경 명소 4\n",
      "[콘텐츠 3]\n",
      "제주 6월 걷기 좋은 길, 성안올레 1코스 원도심 투어\n",
      "[콘텐츠 4]\n",
      "사계절 자연의 아름다움을 간직한 제주시 댕댕이 추천코스\n",
      "[콘텐츠 5]\n",
      "제주도 '한정'여행지, 제주도의 이색 공간을 찾아서\n",
      "[콘텐츠 6]\n",
      "멈춤과 완보로 만나는 제주 생각하는정원\n",
      "[콘텐츠 7]\n",
      "2월 놓치지 말아야 할 제주 관광 10선 <2월 제주, 먼저 온 봄기운에 마음 돌랑돌랑>\n",
      "[콘텐츠 8]\n",
      "제주의 아크로폴리스를 아시나요? - 제주 원도심 (제주목관아 중심)\n",
      "[콘텐츠 9]\n",
      "맛있는 음식에 여행의 기쁨은 두 배! <제주 식도락 여행>\n",
      "[콘텐츠 10]\n",
      "제주 여행, 은빛 물결이 일렁이는 제주도 억새 명소 모음\n",
      "====== 2 페이지 스크래핑 완료 ======\n",
      "스크래핑 프로그램 종료\n"
     ]
    }
   ],
   "source": [
    "contents_no = 0\n",
    "print('스크래핑 프로그램 실행')\n",
    "\n",
    "for page_no in range(1, page_cnt+1):    \n",
    "    print(f'====== {page_no} 페이지 스크래핑 시작 ======')\n",
    "    page_work()\n",
    "    print(f'====== {page_no} 페이지 스크래핑 완료 ======')\n",
    "    if page_no < page_cnt:\n",
    "        driver.find_element(By.XPATH, f'/html/body/div[3]/div/div[1]/div[14]/a[{page_no+1}]').click()\n",
    "        time.sleep(3)\n",
    "print('스크래핑 프로그램 종료')\n",
    "\n",
    "driver.close()"
   ]
  },
  {
   "cell_type": "markdown",
   "id": "52a8f182-6228-419f-89d4-cdcd2fddb6ca",
   "metadata": {},
   "source": [
    "## 상세페이지 콘텐츠도 함께 추출해서 파일로 저장"
   ]
  },
  {
   "cell_type": "code",
   "execution_count": 338,
   "id": "087d3cae-b369-4e45-a150-e919e67ff1cc",
   "metadata": {
    "tags": []
   },
   "outputs": [],
   "source": [
    "from bs4 import BeautifulSoup\n",
    "from selenium import webdriver\n",
    "from selenium.webdriver.common.by import By\n",
    "from selenium.webdriver.common.keys import Keys\n",
    "from selenium.webdriver.chrome.options import Options\n",
    "import math, time, pandas as pd, urllib.request\n",
    "\n",
    "options = Options()\n",
    "options.add_argument('--window-size=974,1047')\n",
    "options.add_argument('--window-position=-7,0')\n",
    "options.add_experimental_option(\"detach\", True)"
   ]
  },
  {
   "cell_type": "code",
   "execution_count": 340,
   "id": "b8214d76-acc0-4fcb-9a97-d12038da228b",
   "metadata": {
    "tags": []
   },
   "outputs": [
    {
     "name": "stdin",
     "output_type": "stream",
     "text": [
      "검색어: 제주도\n",
      "스크래핑 할 건수는 몇건입니까?:  15\n"
     ]
    }
   ],
   "source": [
    "search = input('검색어:')\n",
    "cnt = int(input('스크래핑 할 건수는 몇건입니까?: '))\n",
    "page_cnt = math.ceil(cnt / 10)  # 크롤링 할 전체 페이지 수 "
   ]
  },
  {
   "cell_type": "code",
   "execution_count": 342,
   "id": "4a8a6f0b-d201-44d2-9dee-46f90c98d0fb",
   "metadata": {
    "tags": []
   },
   "outputs": [],
   "source": [
    "URL = 'https://korean.visitkorea.or.kr/search/search_list.do?keyword='+search\n",
    "driver = webdriver.Chrome(options=options)\n",
    "driver.get(URL)\n",
    "time.sleep(2)"
   ]
  },
  {
   "cell_type": "code",
   "execution_count": 344,
   "id": "8f7308e7-59da-483d-a148-c2bc29fab304",
   "metadata": {
    "tags": []
   },
   "outputs": [],
   "source": [
    "# 여행기사 더보기 클릭\n",
    "# driver.find_element(By.CSS_SELECTOR, \".more_view\").click() 중복주의\n",
    "driver.find_element(By.CSS_SELECTOR, \"#s_recommend > .more_view > a\").click()"
   ]
  },
  {
   "cell_type": "code",
   "execution_count": 134,
   "id": "cb763fbb-c580-4827-b8ef-dee657e5c45b",
   "metadata": {
    "tags": []
   },
   "outputs": [],
   "source": [
    "title_list = []\n",
    "contents_list = []\n",
    "\n",
    "def page_work():\n",
    "    result = driver.find_elements(By.CSS_SELECTOR,'#search_result .tit>a')\n",
    "    global contents_no, cnt\n",
    "    global title_list, contents_list\n",
    "    \n",
    "    for item in result:\n",
    "        contents_no += 1\n",
    "        \n",
    "        if contents_no <= cnt :    \n",
    "            print(f'[콘텐츠 {contents_no}]')  \n",
    "            item.send_keys(Keys.ENTER) # .click()은 에러 잘남\n",
    "\n",
    "            time.sleep(2)\n",
    "            html = driver.page_source\n",
    "            html_dom = BeautifulSoup(html, 'lxml')\n",
    "\n",
    "            title = html_dom.find(id='topTitle')\n",
    "            title_list.append(title.text)\n",
    "            print(title.text)\n",
    "            \n",
    "            contents = driver.find_elements(By.CLASS_NAME, 'txt_p')\n",
    "            contents_merge = ' '.join([item.text for item in contents])        \n",
    "            contents_list.append(contents_merge)\n",
    "            \n",
    "            driver.back()\n",
    "            time.sleep(2)     "
   ]
  },
  {
   "cell_type": "code",
   "execution_count": 136,
   "id": "149638f4-ce0b-4a81-8c7a-6b16aa59caae",
   "metadata": {
    "collapsed": true,
    "jupyter": {
     "outputs_hidden": true
    },
    "tags": []
   },
   "outputs": [
    {
     "name": "stdout",
     "output_type": "stream",
     "text": [
      "스크래핑 프로그램 실행\n",
      "====== 1 페이지 스크래핑 시작 ======\n",
      "[콘텐츠 1]\n",
      "서울 근교 여행, 아이와 나들이 떠나는 인천 여행 코스\n",
      "[콘텐츠 2]\n"
     ]
    },
    {
     "ename": "StaleElementReferenceException",
     "evalue": "Message: stale element reference: stale element not found\n  (Session info: chrome=126.0.6478.115); For documentation on this error, please visit: https://www.selenium.dev/documentation/webdriver/troubleshooting/errors#stale-element-reference-exception\nStacktrace:\n\tGetHandleVerifier [0x00007FF6E63CEEA2+31554]\n\t(No symbol) [0x00007FF6E6347ED9]\n\t(No symbol) [0x00007FF6E620872A]\n\t(No symbol) [0x00007FF6E621ADBD]\n\t(No symbol) [0x00007FF6E621B84A]\n\t(No symbol) [0x00007FF6E620F5BB]\n\t(No symbol) [0x00007FF6E620D326]\n\t(No symbol) [0x00007FF6E6210EB1]\n\t(No symbol) [0x00007FF6E6210F50]\n\t(No symbol) [0x00007FF6E6259192]\n\t(No symbol) [0x00007FF6E6259272]\n\t(No symbol) [0x00007FF6E624F119]\n\t(No symbol) [0x00007FF6E627D02A]\n\t(No symbol) [0x00007FF6E624BA76]\n\t(No symbol) [0x00007FF6E627D240]\n\t(No symbol) [0x00007FF6E629C977]\n\t(No symbol) [0x00007FF6E627CDD3]\n\t(No symbol) [0x00007FF6E624A33B]\n\t(No symbol) [0x00007FF6E624AED1]\n\tGetHandleVerifier [0x00007FF6E66D8B1D+3217341]\n\tGetHandleVerifier [0x00007FF6E6725AE3+3532675]\n\tGetHandleVerifier [0x00007FF6E671B0E0+3489152]\n\tGetHandleVerifier [0x00007FF6E647E776+750614]\n\t(No symbol) [0x00007FF6E635375F]\n\t(No symbol) [0x00007FF6E634EB14]\n\t(No symbol) [0x00007FF6E634ECA2]\n\t(No symbol) [0x00007FF6E633E16F]\n\tBaseThreadInitThunk [0x00007FFB1074257D+29]\n\tRtlUserThreadStart [0x00007FFB1264AF28+40]\n",
     "output_type": "error",
     "traceback": [
      "\u001b[1;31m---------------------------------------------------------------------------\u001b[0m",
      "\u001b[1;31mStaleElementReferenceException\u001b[0m            Traceback (most recent call last)",
      "Cell \u001b[1;32mIn[136], line 7\u001b[0m\n\u001b[0;32m      5\u001b[0m \u001b[38;5;28;01mfor\u001b[39;00m page_no \u001b[38;5;129;01min\u001b[39;00m \u001b[38;5;28mrange\u001b[39m(\u001b[38;5;241m1\u001b[39m, page_cnt\u001b[38;5;241m+\u001b[39m\u001b[38;5;241m1\u001b[39m):    \n\u001b[0;32m      6\u001b[0m     \u001b[38;5;28mprint\u001b[39m(\u001b[38;5;124mf\u001b[39m\u001b[38;5;124m'\u001b[39m\u001b[38;5;124m====== \u001b[39m\u001b[38;5;132;01m{\u001b[39;00mpage_no\u001b[38;5;132;01m}\u001b[39;00m\u001b[38;5;124m 페이지 스크래핑 시작 ======\u001b[39m\u001b[38;5;124m'\u001b[39m)\n\u001b[1;32m----> 7\u001b[0m     page_work()\n\u001b[0;32m      8\u001b[0m     \u001b[38;5;28mprint\u001b[39m(\u001b[38;5;124mf\u001b[39m\u001b[38;5;124m'\u001b[39m\u001b[38;5;124m====== \u001b[39m\u001b[38;5;132;01m{\u001b[39;00mpage_no\u001b[38;5;132;01m}\u001b[39;00m\u001b[38;5;124m 페이지 스크래핑 완료 ======\u001b[39m\u001b[38;5;124m'\u001b[39m)\n\u001b[0;32m     10\u001b[0m     DF \u001b[38;5;241m=\u001b[39m pd\u001b[38;5;241m.\u001b[39mDataFrame({\u001b[38;5;124m\"\u001b[39m\u001b[38;5;124m제목\u001b[39m\u001b[38;5;124m\"\u001b[39m:title_list, \u001b[38;5;124m\"\u001b[39m\u001b[38;5;124m내용\u001b[39m\u001b[38;5;124m\"\u001b[39m:contents_list})\n",
      "Cell \u001b[1;32mIn[134], line 14\u001b[0m, in \u001b[0;36mpage_work\u001b[1;34m()\u001b[0m\n\u001b[0;32m     12\u001b[0m \u001b[38;5;28;01mif\u001b[39;00m contents_no \u001b[38;5;241m<\u001b[39m\u001b[38;5;241m=\u001b[39m cnt :    \n\u001b[0;32m     13\u001b[0m     \u001b[38;5;28mprint\u001b[39m(\u001b[38;5;124mf\u001b[39m\u001b[38;5;124m'\u001b[39m\u001b[38;5;124m[콘텐츠 \u001b[39m\u001b[38;5;132;01m{\u001b[39;00mcontents_no\u001b[38;5;132;01m}\u001b[39;00m\u001b[38;5;124m]\u001b[39m\u001b[38;5;124m'\u001b[39m)  \n\u001b[1;32m---> 14\u001b[0m     item\u001b[38;5;241m.\u001b[39msend_keys(Keys\u001b[38;5;241m.\u001b[39mENTER) \u001b[38;5;66;03m# .click()은 에러 잘남\u001b[39;00m\n\u001b[0;32m     16\u001b[0m     time\u001b[38;5;241m.\u001b[39msleep(\u001b[38;5;241m2\u001b[39m)\n\u001b[0;32m     17\u001b[0m     html \u001b[38;5;241m=\u001b[39m driver\u001b[38;5;241m.\u001b[39mpage_source\n",
      "File \u001b[1;32m~\\anaconda3\\Lib\\site-packages\\selenium\\webdriver\\remote\\webelement.py:231\u001b[0m, in \u001b[0;36mWebElement.send_keys\u001b[1;34m(self, *value)\u001b[0m\n\u001b[0;32m    228\u001b[0m             remote_files\u001b[38;5;241m.\u001b[39mappend(\u001b[38;5;28mself\u001b[39m\u001b[38;5;241m.\u001b[39m_upload(file))\n\u001b[0;32m    229\u001b[0m         value \u001b[38;5;241m=\u001b[39m \u001b[38;5;124m\"\u001b[39m\u001b[38;5;130;01m\\n\u001b[39;00m\u001b[38;5;124m\"\u001b[39m\u001b[38;5;241m.\u001b[39mjoin(remote_files)\n\u001b[1;32m--> 231\u001b[0m \u001b[38;5;28mself\u001b[39m\u001b[38;5;241m.\u001b[39m_execute(\n\u001b[0;32m    232\u001b[0m     Command\u001b[38;5;241m.\u001b[39mSEND_KEYS_TO_ELEMENT, {\u001b[38;5;124m\"\u001b[39m\u001b[38;5;124mtext\u001b[39m\u001b[38;5;124m\"\u001b[39m: \u001b[38;5;124m\"\u001b[39m\u001b[38;5;124m\"\u001b[39m\u001b[38;5;241m.\u001b[39mjoin(keys_to_typing(value)), \u001b[38;5;124m\"\u001b[39m\u001b[38;5;124mvalue\u001b[39m\u001b[38;5;124m\"\u001b[39m: keys_to_typing(value)}\n\u001b[0;32m    233\u001b[0m )\n",
      "File \u001b[1;32m~\\anaconda3\\Lib\\site-packages\\selenium\\webdriver\\remote\\webelement.py:395\u001b[0m, in \u001b[0;36mWebElement._execute\u001b[1;34m(self, command, params)\u001b[0m\n\u001b[0;32m    393\u001b[0m     params \u001b[38;5;241m=\u001b[39m {}\n\u001b[0;32m    394\u001b[0m params[\u001b[38;5;124m\"\u001b[39m\u001b[38;5;124mid\u001b[39m\u001b[38;5;124m\"\u001b[39m] \u001b[38;5;241m=\u001b[39m \u001b[38;5;28mself\u001b[39m\u001b[38;5;241m.\u001b[39m_id\n\u001b[1;32m--> 395\u001b[0m \u001b[38;5;28;01mreturn\u001b[39;00m \u001b[38;5;28mself\u001b[39m\u001b[38;5;241m.\u001b[39m_parent\u001b[38;5;241m.\u001b[39mexecute(command, params)\n",
      "File \u001b[1;32m~\\anaconda3\\Lib\\site-packages\\selenium\\webdriver\\remote\\webdriver.py:354\u001b[0m, in \u001b[0;36mWebDriver.execute\u001b[1;34m(self, driver_command, params)\u001b[0m\n\u001b[0;32m    352\u001b[0m response \u001b[38;5;241m=\u001b[39m \u001b[38;5;28mself\u001b[39m\u001b[38;5;241m.\u001b[39mcommand_executor\u001b[38;5;241m.\u001b[39mexecute(driver_command, params)\n\u001b[0;32m    353\u001b[0m \u001b[38;5;28;01mif\u001b[39;00m response:\n\u001b[1;32m--> 354\u001b[0m     \u001b[38;5;28mself\u001b[39m\u001b[38;5;241m.\u001b[39merror_handler\u001b[38;5;241m.\u001b[39mcheck_response(response)\n\u001b[0;32m    355\u001b[0m     response[\u001b[38;5;124m\"\u001b[39m\u001b[38;5;124mvalue\u001b[39m\u001b[38;5;124m\"\u001b[39m] \u001b[38;5;241m=\u001b[39m \u001b[38;5;28mself\u001b[39m\u001b[38;5;241m.\u001b[39m_unwrap_value(response\u001b[38;5;241m.\u001b[39mget(\u001b[38;5;124m\"\u001b[39m\u001b[38;5;124mvalue\u001b[39m\u001b[38;5;124m\"\u001b[39m, \u001b[38;5;28;01mNone\u001b[39;00m))\n\u001b[0;32m    356\u001b[0m     \u001b[38;5;28;01mreturn\u001b[39;00m response\n",
      "File \u001b[1;32m~\\anaconda3\\Lib\\site-packages\\selenium\\webdriver\\remote\\errorhandler.py:229\u001b[0m, in \u001b[0;36mErrorHandler.check_response\u001b[1;34m(self, response)\u001b[0m\n\u001b[0;32m    227\u001b[0m         alert_text \u001b[38;5;241m=\u001b[39m value[\u001b[38;5;124m\"\u001b[39m\u001b[38;5;124malert\u001b[39m\u001b[38;5;124m\"\u001b[39m]\u001b[38;5;241m.\u001b[39mget(\u001b[38;5;124m\"\u001b[39m\u001b[38;5;124mtext\u001b[39m\u001b[38;5;124m\"\u001b[39m)\n\u001b[0;32m    228\u001b[0m     \u001b[38;5;28;01mraise\u001b[39;00m exception_class(message, screen, stacktrace, alert_text)  \u001b[38;5;66;03m# type: ignore[call-arg]  # mypy is not smart enough here\u001b[39;00m\n\u001b[1;32m--> 229\u001b[0m \u001b[38;5;28;01mraise\u001b[39;00m exception_class(message, screen, stacktrace)\n",
      "\u001b[1;31mStaleElementReferenceException\u001b[0m: Message: stale element reference: stale element not found\n  (Session info: chrome=126.0.6478.115); For documentation on this error, please visit: https://www.selenium.dev/documentation/webdriver/troubleshooting/errors#stale-element-reference-exception\nStacktrace:\n\tGetHandleVerifier [0x00007FF6E63CEEA2+31554]\n\t(No symbol) [0x00007FF6E6347ED9]\n\t(No symbol) [0x00007FF6E620872A]\n\t(No symbol) [0x00007FF6E621ADBD]\n\t(No symbol) [0x00007FF6E621B84A]\n\t(No symbol) [0x00007FF6E620F5BB]\n\t(No symbol) [0x00007FF6E620D326]\n\t(No symbol) [0x00007FF6E6210EB1]\n\t(No symbol) [0x00007FF6E6210F50]\n\t(No symbol) [0x00007FF6E6259192]\n\t(No symbol) [0x00007FF6E6259272]\n\t(No symbol) [0x00007FF6E624F119]\n\t(No symbol) [0x00007FF6E627D02A]\n\t(No symbol) [0x00007FF6E624BA76]\n\t(No symbol) [0x00007FF6E627D240]\n\t(No symbol) [0x00007FF6E629C977]\n\t(No symbol) [0x00007FF6E627CDD3]\n\t(No symbol) [0x00007FF6E624A33B]\n\t(No symbol) [0x00007FF6E624AED1]\n\tGetHandleVerifier [0x00007FF6E66D8B1D+3217341]\n\tGetHandleVerifier [0x00007FF6E6725AE3+3532675]\n\tGetHandleVerifier [0x00007FF6E671B0E0+3489152]\n\tGetHandleVerifier [0x00007FF6E647E776+750614]\n\t(No symbol) [0x00007FF6E635375F]\n\t(No symbol) [0x00007FF6E634EB14]\n\t(No symbol) [0x00007FF6E634ECA2]\n\t(No symbol) [0x00007FF6E633E16F]\n\tBaseThreadInitThunk [0x00007FFB1074257D+29]\n\tRtlUserThreadStart [0x00007FFB1264AF28+40]\n"
     ]
    }
   ],
   "source": [
    "contents_no = 0\n",
    "today = time.localtime()\n",
    "print('스크래핑 프로그램 실행')\n",
    "\n",
    "for page_no in range(1, page_cnt+1):    \n",
    "    print(f'====== {page_no} 페이지 스크래핑 시작 ======')\n",
    "    page_work()\n",
    "    print(f'====== {page_no} 페이지 스크래핑 완료 ======')\n",
    "    \n",
    "    DF = pd.DataFrame({\"제목\":title_list, \"내용\":contents_list})\n",
    "    filename = f'{search}여행기사_{cnt}건_{today.tm_year}{today.tm_mon}{today.tm_mday}.xlsx'\n",
    "    DF.to_excel(filename)\n",
    "    print(f'====== {page_no} 페이지 {filename}파일 저장 완료 ======')\n",
    "    \n",
    "    if page_no < page_cnt:\n",
    "        driver.find_element(By.XPATH, f'/html/body/div[3]/div/div[1]/div[14]/a[{page_no+1}]').click()\n",
    "        time.sleep(2)\n",
    "                   \n",
    "print('스크래핑 프로그램 종료')\n",
    "driver.close()"
   ]
  },
  {
   "cell_type": "markdown",
   "id": "502fafdf-54d6-43d2-8df2-f9f1e1fef414",
   "metadata": {},
   "source": [
    "## 이미지 추출 기능 추가"
   ]
  },
  {
   "cell_type": "code",
   "execution_count": 139,
   "id": "ad79fe9b-df94-4119-9617-dfb5fc96d887",
   "metadata": {
    "tags": []
   },
   "outputs": [],
   "source": [
    "from bs4 import BeautifulSoup\n",
    "from selenium import webdriver\n",
    "from selenium.webdriver.common.by import By\n",
    "from selenium.webdriver.common.keys import Keys\n",
    "from selenium.webdriver.chrome.options import Options\n",
    "import math, time, os, pandas as pd\n",
    "\n",
    "options = Options()\n",
    "options.add_argument('--window-size=974,1047')\n",
    "options.add_argument('--window-position=-7,0')\n",
    "options.add_experimental_option(\"detach\", True)"
   ]
  },
  {
   "cell_type": "code",
   "execution_count": 259,
   "id": "ee0e2a03-bdf4-49d9-9c07-8090aa129d8f",
   "metadata": {
    "tags": []
   },
   "outputs": [
    {
     "name": "stdin",
     "output_type": "stream",
     "text": [
      "검색어: 제주도\n",
      "스크래핑 할 건수는 몇건입니까?:  15\n"
     ]
    }
   ],
   "source": [
    "search = input('검색어:')\n",
    "cnt = int(input('스크래핑 할 건수는 몇건입니까?: '))\n",
    "page_cnt = math.ceil(cnt / 10)  # 크롤링 할 전체 페이지 수 "
   ]
  },
  {
   "cell_type": "code",
   "execution_count": 261,
   "id": "4cf65315-b4ed-432c-a98b-7699b40c1f22",
   "metadata": {
    "tags": []
   },
   "outputs": [],
   "source": [
    "now = time.localtime()\n",
    "date_format = '%04d%02d%02d'%(now.tm_year, now.tm_mon, now.tm_mday)\n",
    "f_dir = f'{os.getcwd()}\\\\{search}여행기사_{cnt}건_{date_format}'\n",
    "os.makedirs(f_dir)"
   ]
  },
  {
   "cell_type": "code",
   "execution_count": 263,
   "id": "702bc734-6c7b-4544-bed1-0941d02f1591",
   "metadata": {
    "tags": []
   },
   "outputs": [],
   "source": [
    "URL = 'https://korean.visitkorea.or.kr/search/search_list.do?keyword='+search\n",
    "driver = webdriver.Chrome(options=options)\n",
    "driver.get(URL)\n",
    "time.sleep(2)\n",
    "# 여행기사 더보기 클릭\n",
    "driver.find_element(By.CSS_SELECTOR, \"#s_recommend > .more_view > a\").click()\n",
    "time.sleep(2)"
   ]
  },
  {
   "cell_type": "code",
   "execution_count": 346,
   "id": "f6fa1af7-0240-41e1-8298-6948939fc175",
   "metadata": {
    "tags": []
   },
   "outputs": [],
   "source": [
    "title_list = []\n",
    "contents_list = []\n",
    "img_url_list = []\n",
    "\n",
    "def page_work():\n",
    "    result = driver.find_elements(By.CSS_SELECTOR,'#search_result .tit>a')\n",
    "    global contents_no, cnt\n",
    "    global title_list, contents_list, img_url_list\n",
    "    contents_no = 0  # 인덱스 초기화\n",
    "    \n",
    "    for item in result:\n",
    "        result = driver.find_elements(By.CSS_SELECTOR,'#search_result .tit>a')\n",
    "        item = result[contents_no]\n",
    "        contents_no += 1\n",
    "        \n",
    "        if contents_no <= cnt :    \n",
    "            print(f'[콘텐츠 {contents_no}]')  \n",
    "            item.send_keys(Keys.ENTER) # .click()은 에러 잘남\n",
    "\n",
    "            time.sleep(2)\n",
    "            \n",
    "            # 이미지 추출을 위해 미리 스크롤\n",
    "            driver.execute_script(\"window.scrollTo(0, document.body.scrollHeight)\")\n",
    "            \n",
    "            html = driver.page_source\n",
    "            html_dom = BeautifulSoup(html, 'lxml')\n",
    "\n",
    "            title = html_dom.find(id='topTitle')\n",
    "            title_list.append(title.text)\n",
    "            print(title.text)\n",
    "            \n",
    "            img_tag_list = html_dom.select('.img_typeBox img')\n",
    "            img_url_list = [item['src'] for item in img_tag_list]\n",
    "\n",
    "            contents = driver.find_elements(By.CLASS_NAME, 'txt_p')\n",
    "            contents_merge = ' '.join([item.text for item in contents])        \n",
    "            contents_list.append(contents_merge)           \n",
    "            \n",
    "            driver.back()\n",
    "            time.sleep(2)     "
   ]
  },
  {
   "cell_type": "code",
   "execution_count": 348,
   "id": "fbe66fe9-c6c8-406b-b127-5a03ac12910d",
   "metadata": {
    "tags": []
   },
   "outputs": [],
   "source": [
    "def file_export():\n",
    "    \n",
    "    DF = pd.DataFrame({\"제목\":title_list, \"내용\":contents_list})\n",
    "    filename = f'{search}여행기사_{cnt}건_{date_format}.xlsx'\n",
    "    DF.to_excel(f_dir+'\\\\'+filename)\n",
    "    print(f'====== {page_no} 페이지 {filename} 파일 저장 완료 ======')\n",
    "    \n",
    "    \n",
    "    no = 0\n",
    "    for src in img_url_list:\n",
    "        # 다운로드  (주소, 파일이름)\n",
    "        urllib.request.urlretrieve(src, f'{f_dir}\\\\{page_no}_{no}.jpg')\n",
    "        no += 1\n",
    "    print(f'====== {page_no} 페이지 {f_dir} 디렉토리 이미지 저장 완료 ======')"
   ]
  },
  {
   "cell_type": "code",
   "execution_count": 350,
   "id": "49a6b07b-e4f2-41a1-a42d-80977ffaad4d",
   "metadata": {
    "tags": []
   },
   "outputs": [
    {
     "name": "stdout",
     "output_type": "stream",
     "text": [
      "스크래핑 프로그램 실행\n",
      "====== 1 페이지 스크래핑 시작 ======\n",
      "[콘텐츠 1]\n",
      "해변산책부터 레이싱까지, 제주 반려동물 동반여행 추천 코스\n",
      "[콘텐츠 2]\n",
      "제주도가 품은 신비의 화산 숲, 환상숲곶자왈공원\n",
      "[콘텐츠 3]\n",
      "한국관광공사 추천 2월 걷기여행길, 이른 봄을 맞이하는 제주도 걷기길\n",
      "[콘텐츠 4]\n",
      "제주도의 숨겨진 재미를 찾는 <놀멍, 배우멍 제주마을체험 - 1일형 체험학습>\n",
      "[콘텐츠 5]\n",
      "제주도 조천읍 버킷리스트 여행지 작성하기\n",
      "[콘텐츠 6]\n",
      "김창열의 회귀 철학을 건축으로 표현한 미술관, 제주도립김창열미술관\n",
      "[콘텐츠 7]\n",
      "[국내 트레킹 추천] 제주 올레길 걷기 여행, 준비부터 코스 선택까지 꿀팁 총정리!\n",
      "[콘텐츠 8]\n",
      "4월 제주도 가볼 만한, 가파도 청보리 축제\n",
      "[콘텐츠 9]\n",
      "제주도 유채꽃 명소 추천, 봄에 떠나는 인생샷 여행\n",
      "[콘텐츠 10]\n",
      "소소한 ‘제주여행’ 꿀팁! 〈겨울편〉\n",
      "====== 1 페이지 스크래핑 작업중 ======\n",
      "====== 1 페이지 제주도여행기사_15건_20240626.xlsx 파일 저장 완료 ======\n",
      "====== 1 페이지 C:\\workspace\\wassup3\\02_Python_Collection\\제주도여행기사_15건_20240626 디렉토리 이미지 저장 완료 ======\n",
      "====== 1 페이지 스크래핑 완료 ======\n",
      "====== 2 페이지 스크래핑 시작 ======\n",
      "[콘텐츠 1]\n",
      "연말연시 제주도 여행 추천 코스, 가족여행 가볼 만한 곳\n",
      "[콘텐츠 2]\n",
      "새하얀 눈으로 덮인 제주도 설경 명소 4\n",
      "[콘텐츠 3]\n",
      "제주 6월 걷기 좋은 길, 성안올레 1코스 원도심 투어\n",
      "[콘텐츠 4]\n",
      "사계절 자연의 아름다움을 간직한 제주시 댕댕이 추천코스\n",
      "[콘텐츠 5]\n",
      "제주도 '한정'여행지, 제주도의 이색 공간을 찾아서\n",
      "[콘텐츠 6]\n",
      "멈춤과 완보로 만나는 제주 생각하는정원\n",
      "[콘텐츠 7]\n",
      "2월 놓치지 말아야 할 제주 관광 10선 <2월 제주, 먼저 온 봄기운에 마음 돌랑돌랑>\n",
      "[콘텐츠 8]\n",
      "제주의 아크로폴리스를 아시나요? - 제주 원도심 (제주목관아 중심)\n",
      "[콘텐츠 9]\n",
      "맛있는 음식에 여행의 기쁨은 두 배! <제주 식도락 여행>\n",
      "[콘텐츠 10]\n",
      "제주 여행, 은빛 물결이 일렁이는 제주도 억새 명소 모음\n",
      "====== 2 페이지 스크래핑 작업중 ======\n",
      "====== 2 페이지 제주도여행기사_15건_20240626.xlsx 파일 저장 완료 ======\n",
      "====== 2 페이지 C:\\workspace\\wassup3\\02_Python_Collection\\제주도여행기사_15건_20240626 디렉토리 이미지 저장 완료 ======\n",
      "====== 2 페이지 스크래핑 완료 ======\n",
      "스크래핑 프로그램 종료\n"
     ]
    }
   ],
   "source": [
    "contents_no = 0\n",
    "today = time.localtime()\n",
    "print('스크래핑 프로그램 실행')\n",
    "\n",
    "for page_no in range(1, page_cnt+1):    \n",
    "    print(f'====== {page_no} 페이지 스크래핑 시작 ======')\n",
    "    page_work()\n",
    "    print(f'====== {page_no} 페이지 스크래핑 작업중 ======')\n",
    "    file_export()\n",
    "    print(f'====== {page_no} 페이지 스크래핑 완료 ======')\n",
    "    if page_no < page_cnt:\n",
    "        driver.find_element(By.XPATH, f'/html/body/div[3]/div/div[1]/div[14]/a[{page_no+1}]').click()\n",
    "        time.sleep(2)\n",
    "                   \n",
    "print('스크래핑 프로그램 종료')\n",
    "driver.close()"
   ]
  },
  {
   "cell_type": "code",
   "execution_count": null,
   "id": "43cc1878-75b1-4d1a-89e5-22859e721ef6",
   "metadata": {},
   "outputs": [],
   "source": []
  }
 ],
 "metadata": {
  "kernelspec": {
   "display_name": "Python 3 (ipykernel)",
   "language": "python",
   "name": "python3"
  },
  "language_info": {
   "codemirror_mode": {
    "name": "ipython",
    "version": 3
   },
   "file_extension": ".py",
   "mimetype": "text/x-python",
   "name": "python",
   "nbconvert_exporter": "python",
   "pygments_lexer": "ipython3",
   "version": "3.11.7"
  }
 },
 "nbformat": 4,
 "nbformat_minor": 5
}
