{
 "cells": [
  {
   "cell_type": "markdown",
   "id": "5b86c30e-1dd3-4ffb-83be-e8fed41584bf",
   "metadata": {},
   "source": [
    "# Selenium 사용하기\n",
    "- 크롬 115이상 버전부터 부터 드라이버 설치 불필요\n",
    "- 셀레니움4 부터 문법 변경\n",
    "- https://www.selenium.dev/documentation/\n",
    "셀레니움으로는 스크래핑하면 너무 느리므로, 동적 웹페이지 접속 및 이벤트 발생 역할 만 하고, 파싱은 BS4를 쓰는게 좋다."
   ]
  },
  {
   "cell_type": "code",
   "execution_count": 3,
   "id": "42ab6f6b-f5c1-442c-a9da-f0767efd7b5a",
   "metadata": {
    "collapsed": true,
    "jupyter": {
     "outputs_hidden": true
    },
    "tags": []
   },
   "outputs": [
    {
     "name": "stdout",
     "output_type": "stream",
     "text": [
      "Collecting selenium\n",
      "  Downloading selenium-4.22.0-py3-none-any.whl.metadata (7.0 kB)\n",
      "Requirement already satisfied: urllib3<3,>=1.26 in c:\\users\\song4\\anaconda3\\lib\\site-packages (from urllib3[socks]<3,>=1.26->selenium) (2.0.7)\n",
      "Collecting trio~=0.17 (from selenium)\n",
      "  Downloading trio-0.25.1-py3-none-any.whl.metadata (8.7 kB)\n",
      "Collecting trio-websocket~=0.9 (from selenium)\n",
      "  Downloading trio_websocket-0.11.1-py3-none-any.whl.metadata (4.7 kB)\n",
      "Requirement already satisfied: certifi>=2021.10.8 in c:\\users\\song4\\anaconda3\\lib\\site-packages (from selenium) (2024.6.2)\n",
      "Requirement already satisfied: typing_extensions>=4.9.0 in c:\\users\\song4\\anaconda3\\lib\\site-packages (from selenium) (4.9.0)\n",
      "Collecting websocket-client>=1.8.0 (from selenium)\n",
      "  Downloading websocket_client-1.8.0-py3-none-any.whl.metadata (8.0 kB)\n",
      "Collecting attrs>=23.2.0 (from trio~=0.17->selenium)\n",
      "  Downloading attrs-23.2.0-py3-none-any.whl.metadata (9.5 kB)\n",
      "Requirement already satisfied: sortedcontainers in c:\\users\\song4\\anaconda3\\lib\\site-packages (from trio~=0.17->selenium) (2.4.0)\n",
      "Requirement already satisfied: idna in c:\\users\\song4\\anaconda3\\lib\\site-packages (from trio~=0.17->selenium) (3.4)\n",
      "Collecting outcome (from trio~=0.17->selenium)\n",
      "  Downloading outcome-1.3.0.post0-py2.py3-none-any.whl.metadata (2.6 kB)\n",
      "Requirement already satisfied: sniffio>=1.3.0 in c:\\users\\song4\\anaconda3\\lib\\site-packages (from trio~=0.17->selenium) (1.3.0)\n",
      "Requirement already satisfied: cffi>=1.14 in c:\\users\\song4\\anaconda3\\lib\\site-packages (from trio~=0.17->selenium) (1.16.0)\n",
      "Collecting wsproto>=0.14 (from trio-websocket~=0.9->selenium)\n",
      "  Downloading wsproto-1.2.0-py3-none-any.whl.metadata (5.6 kB)\n",
      "Requirement already satisfied: pysocks!=1.5.7,<2.0,>=1.5.6 in c:\\users\\song4\\anaconda3\\lib\\site-packages (from urllib3[socks]<3,>=1.26->selenium) (1.7.1)\n",
      "Requirement already satisfied: pycparser in c:\\users\\song4\\anaconda3\\lib\\site-packages (from cffi>=1.14->trio~=0.17->selenium) (2.21)\n",
      "Requirement already satisfied: h11<1,>=0.9.0 in c:\\users\\song4\\anaconda3\\lib\\site-packages (from wsproto>=0.14->trio-websocket~=0.9->selenium) (0.14.0)\n",
      "Downloading selenium-4.22.0-py3-none-any.whl (9.4 MB)\n",
      "   ---------------------------------------- 0.0/9.4 MB ? eta -:--:--\n",
      "   - -------------------------------------- 0.3/9.4 MB 10.6 MB/s eta 0:00:01\n",
      "   ---- ----------------------------------- 1.2/9.4 MB 14.8 MB/s eta 0:00:01\n",
      "   --------- ------------------------------ 2.3/9.4 MB 18.2 MB/s eta 0:00:01\n",
      "   --------------- ------------------------ 3.7/9.4 MB 21.4 MB/s eta 0:00:01\n",
      "   ---------------------- ----------------- 5.3/9.4 MB 23.9 MB/s eta 0:00:01\n",
      "   ------------------------------ --------- 7.2/9.4 MB 26.9 MB/s eta 0:00:01\n",
      "   -------------------------------------- - 9.1/9.4 MB 28.9 MB/s eta 0:00:01\n",
      "   ---------------------------------------- 9.4/9.4 MB 28.7 MB/s eta 0:00:00\n",
      "Downloading trio-0.25.1-py3-none-any.whl (467 kB)\n",
      "   ---------------------------------------- 0.0/467.7 kB ? eta -:--:--\n",
      "   --------------------------------------- 467.7/467.7 kB 30.5 MB/s eta 0:00:00\n",
      "Downloading trio_websocket-0.11.1-py3-none-any.whl (17 kB)\n",
      "Downloading websocket_client-1.8.0-py3-none-any.whl (58 kB)\n",
      "   ---------------------------------------- 0.0/58.8 kB ? eta -:--:--\n",
      "   ---------------------------------------- 58.8/58.8 kB ? eta 0:00:00\n",
      "Downloading attrs-23.2.0-py3-none-any.whl (60 kB)\n",
      "   ---------------------------------------- 0.0/60.8 kB ? eta -:--:--\n",
      "   ---------------------------------------- 60.8/60.8 kB ? eta 0:00:00\n",
      "Downloading wsproto-1.2.0-py3-none-any.whl (24 kB)\n",
      "Downloading outcome-1.3.0.post0-py2.py3-none-any.whl (10 kB)\n",
      "Installing collected packages: wsproto, websocket-client, attrs, outcome, trio, trio-websocket, selenium\n",
      "  Attempting uninstall: websocket-client\n",
      "    Found existing installation: websocket-client 0.58.0\n",
      "    Uninstalling websocket-client-0.58.0:\n",
      "      Successfully uninstalled websocket-client-0.58.0\n",
      "  Attempting uninstall: attrs\n",
      "    Found existing installation: attrs 23.1.0\n",
      "    Uninstalling attrs-23.1.0:\n",
      "      Successfully uninstalled attrs-23.1.0\n",
      "Successfully installed attrs-23.2.0 outcome-1.3.0.post0 selenium-4.22.0 trio-0.25.1 trio-websocket-0.11.1 websocket-client-1.8.0 wsproto-1.2.0\n"
     ]
    }
   ],
   "source": [
    "# 셀레니움 라이브러리 설치\n",
    "!pip install selenium"
   ]
  },
  {
   "cell_type": "code",
   "execution_count": 13,
   "id": "138c740e-846f-40a8-b2af-4b5d9b863acf",
   "metadata": {
    "tags": []
   },
   "outputs": [
    {
     "data": {
      "text/plain": [
       "<selenium.webdriver.chrome.options.Options at 0x15affeb6410>"
      ]
     },
     "execution_count": 13,
     "metadata": {},
     "output_type": "execute_result"
    }
   ],
   "source": [
    "from selenium import webdriver\n",
    "from selenium.webdriver.common.by import By\n",
    "from selenium.webdriver.chrome.options import Options\n",
    "import time\n",
    "\n",
    "options = Options()\n",
    "options"
   ]
  },
  {
   "cell_type": "code",
   "execution_count": 15,
   "id": "a42794e4-64d0-493b-9fc2-6d6781bdbb11",
   "metadata": {
    "tags": []
   },
   "outputs": [],
   "source": [
    "#특정함수안에서  드라이버 생성시 함수종료될 때 브라우저 같이 종료되는 문제 대응\n",
    "options.add_experimental_option(\"detach\", True)"
   ]
  },
  {
   "cell_type": "markdown",
   "id": "78fe0af4-5385-4c66-b189-1d2c9f42f90b",
   "metadata": {},
   "source": [
    "## 브라우저 실행 및 페이지 접속"
   ]
  },
  {
   "cell_type": "code",
   "execution_count": 18,
   "id": "b25a809b-09d6-4ff6-8a51-421da3de925c",
   "metadata": {
    "tags": []
   },
   "outputs": [],
   "source": [
    "url = 'http://naver.com'\n",
    "driver = webdriver.Chrome(options=options) # 객체 생성"
   ]
  },
  {
   "cell_type": "code",
   "execution_count": 31,
   "id": "eb384935-688a-4e33-899e-05a2ff6c1c4e",
   "metadata": {
    "tags": []
   },
   "outputs": [],
   "source": [
    "driver.get(url)\n",
    "time. sleep(2)"
   ]
  },
  {
   "cell_type": "markdown",
   "id": "13d1dc86-35d1-4a28-a768-f5b183734934",
   "metadata": {},
   "source": [
    "## 상호작용"
   ]
  },
  {
   "cell_type": "code",
   "execution_count": 32,
   "id": "ac5d474c-0f5a-40f4-8e0a-c199c3b0d558",
   "metadata": {
    "tags": []
   },
   "outputs": [],
   "source": [
    "driver.back()"
   ]
  },
  {
   "cell_type": "code",
   "execution_count": 35,
   "id": "7e2abf2e-ae85-4ff2-afc3-685878c0dcdc",
   "metadata": {
    "tags": []
   },
   "outputs": [],
   "source": [
    "driver.forward()"
   ]
  },
  {
   "cell_type": "code",
   "execution_count": 37,
   "id": "89a8271e-2587-4f18-880d-85d7733ac342",
   "metadata": {
    "tags": []
   },
   "outputs": [],
   "source": [
    "driver.refresh()"
   ]
  },
  {
   "cell_type": "markdown",
   "id": "413fe195-00c1-4453-a584-eaa88599c0d4",
   "metadata": {
    "tags": []
   },
   "source": [
    "## 페이지 정보 가져오기"
   ]
  },
  {
   "cell_type": "code",
   "execution_count": 44,
   "id": "94e9b7a3-9ff5-49c2-aa35-a54320f9b50e",
   "metadata": {
    "tags": []
   },
   "outputs": [
    {
     "name": "stdout",
     "output_type": "stream",
     "text": [
      "NAVER https://www.naver.com/ 5EC331A7A0024EBAA4065E5A9C0F836C\n"
     ]
    }
   ],
   "source": [
    "title = driver.title\n",
    "url = driver.current_url\n",
    "handle = driver.current_window_handle\n",
    "print(title, url, handle)"
   ]
  },
  {
   "cell_type": "markdown",
   "id": "0c1e029a-6843-407d-bbb7-0ee7576582af",
   "metadata": {},
   "source": [
    "## HTML 요소 찾기\n",
    "네이버 검색창을 핸들링 해보자.\n",
    "```\n",
    "<input id=\"query\" name=\"query\" type=\"search\" title=\"검색어를 입력해 주세요.\" placeholder=\"검색어를 입력해 주세요.\" maxlength=\"255\" autocomplete=\"off\" class=\"search_input\" data-atcmp-element=\"\">\n",
    "```"
   ]
  },
  {
   "cell_type": "code",
   "execution_count": 48,
   "id": "e8acf29f-f0a9-4da6-9f66-91f23495c005",
   "metadata": {
    "tags": []
   },
   "outputs": [
    {
     "data": {
      "text/plain": [
       "\u001b[1;31mSignature:\u001b[0m \u001b[0mdriver\u001b[0m\u001b[1;33m.\u001b[0m\u001b[0mfind_element\u001b[0m\u001b[1;33m(\u001b[0m\u001b[0mby\u001b[0m\u001b[1;33m=\u001b[0m\u001b[1;34m'id'\u001b[0m\u001b[1;33m,\u001b[0m \u001b[0mvalue\u001b[0m\u001b[1;33m:\u001b[0m \u001b[0mOptional\u001b[0m\u001b[1;33m[\u001b[0m\u001b[0mstr\u001b[0m\u001b[1;33m]\u001b[0m \u001b[1;33m=\u001b[0m \u001b[1;32mNone\u001b[0m\u001b[1;33m)\u001b[0m \u001b[1;33m->\u001b[0m \u001b[0mselenium\u001b[0m\u001b[1;33m.\u001b[0m\u001b[0mwebdriver\u001b[0m\u001b[1;33m.\u001b[0m\u001b[0mremote\u001b[0m\u001b[1;33m.\u001b[0m\u001b[0mwebelement\u001b[0m\u001b[1;33m.\u001b[0m\u001b[0mWebElement\u001b[0m\u001b[1;33m\u001b[0m\u001b[1;33m\u001b[0m\u001b[0m\n",
       "\u001b[1;31mDocstring:\u001b[0m\n",
       "Find an element given a By strategy and locator.\n",
       "\n",
       ":Usage:\n",
       "    ::\n",
       "\n",
       "        element = driver.find_element(By.ID, 'foo')\n",
       "\n",
       ":rtype: WebElement\n",
       "\u001b[1;31mFile:\u001b[0m      c:\\users\\song4\\anaconda3\\lib\\site-packages\\selenium\\webdriver\\remote\\webdriver.py\n",
       "\u001b[1;31mType:\u001b[0m      method"
      ]
     },
     "metadata": {},
     "output_type": "display_data"
    }
   ],
   "source": [
    "driver.find_element?"
   ]
  },
  {
   "cell_type": "code",
   "execution_count": 53,
   "id": "fdc36ecc-e93a-4ebb-a423-03f67d73711d",
   "metadata": {
    "tags": []
   },
   "outputs": [
    {
     "data": {
      "text/plain": [
       "<selenium.webdriver.remote.webelement.WebElement (session=\"b3838fbc2a15eb828794fa3a15b514ce\", element=\"f.5EC331A7A0024EBAA4065E5A9C0F836C.d.61CEE0F69F952F6C0CC05E196D9A0D82.e.67\")>"
      ]
     },
     "execution_count": 53,
     "metadata": {},
     "output_type": "execute_result"
    }
   ],
   "source": [
    "driver.find_element(By.ID, 'query')"
   ]
  },
  {
   "cell_type": "code",
   "execution_count": 55,
   "id": "4ad95207-dd08-4fd8-afba-8d547f38c799",
   "metadata": {
    "tags": []
   },
   "outputs": [],
   "source": [
    "# 키 입력\n",
    "driver.find_element(By.ID, 'query').send_keys('뉴진스')"
   ]
  },
  {
   "cell_type": "code",
   "execution_count": 59,
   "id": "064d75d6-3e7f-462d-b574-a5b9d0b13ad3",
   "metadata": {
    "tags": []
   },
   "outputs": [],
   "source": [
    "driver.find_element(By.CLASS_NAME, 'search_input').send_keys('블랙핑크')"
   ]
  },
  {
   "cell_type": "code",
   "execution_count": 61,
   "id": "56fe230e-d092-493a-93c3-81aae07ed2bf",
   "metadata": {
    "tags": []
   },
   "outputs": [],
   "source": [
    "driver.find_element(By.NAME, 'query').send_keys('르세라핌')"
   ]
  },
  {
   "cell_type": "code",
   "execution_count": 63,
   "id": "128214dc-6dbe-4f1f-87d3-9bf0fc6540d6",
   "metadata": {
    "tags": []
   },
   "outputs": [],
   "source": [
    "driver.find_element(By.CSS_SELECTOR, '#query').send_keys('에스파')"
   ]
  },
  {
   "cell_type": "code",
   "execution_count": 71,
   "id": "78bf75bc-a15c-473d-94b1-adc6fd8ca0f7",
   "metadata": {
    "tags": []
   },
   "outputs": [],
   "source": [
    "driver.find_element(By.CSS_SELECTOR, '.search_input').send_keys('세븐틴')"
   ]
  },
  {
   "cell_type": "code",
   "execution_count": 75,
   "id": "8f15a16c-a71f-4a8b-9f46-82d16704bbbe",
   "metadata": {
    "tags": []
   },
   "outputs": [],
   "source": [
    "driver.find_element(By.CSS_SELECTOR, \"[title='검색어를 입력해 주세요.']\").send_keys('트와이스')"
   ]
  },
  {
   "cell_type": "code",
   "execution_count": 79,
   "id": "f4c34709-e206-403c-af62-acb42f3ab00a",
   "metadata": {
    "tags": []
   },
   "outputs": [],
   "source": [
    "driver.find_element(By.XPATH,\"//*[@id='query']\").send_keys('BTS')"
   ]
  },
  {
   "cell_type": "markdown",
   "id": "24463812-a2ae-4081-8357-0e82de822afe",
   "metadata": {
    "tags": []
   },
   "source": [
    "## 클릭\n",
    "네이버 쇼핑 메뉴를 클릭해보자."
   ]
  },
  {
   "cell_type": "code",
   "execution_count": 84,
   "id": "ed3232b5-e5c1-44a2-a70a-71c3f5894513",
   "metadata": {
    "tags": []
   },
   "outputs": [
    {
     "data": {
      "text/plain": [
       "<selenium.webdriver.remote.webelement.WebElement (session=\"b3838fbc2a15eb828794fa3a15b514ce\", element=\"f.5EC331A7A0024EBAA4065E5A9C0F836C.d.61CEE0F69F952F6C0CC05E196D9A0D82.e.482\")>"
      ]
     },
     "execution_count": 84,
     "metadata": {},
     "output_type": "execute_result"
    }
   ],
   "source": [
    "driver.find_element(By.LINK_TEXT, '쇼핑')"
   ]
  },
  {
   "cell_type": "code",
   "execution_count": 94,
   "id": "8a8d5619-c62b-4ffe-b415-1abd4c3969a1",
   "metadata": {
    "tags": []
   },
   "outputs": [],
   "source": [
    "driver.find_element(By.LINK_TEXT, '쇼핑').click()"
   ]
  },
  {
   "cell_type": "code",
   "execution_count": 90,
   "id": "9c7ffbbd-a64d-48b2-9c10-41c732abea81",
   "metadata": {
    "tags": []
   },
   "outputs": [],
   "source": [
    "# 일부 매칭\n",
    "driver.find_element(By.PARTIAL_LINK_TEXT, '증').click()"
   ]
  },
  {
   "cell_type": "code",
   "execution_count": 98,
   "id": "601713fb-d3d2-4ac5-b080-c0bcd1519ce0",
   "metadata": {
    "tags": []
   },
   "outputs": [
    {
     "data": {
      "text/plain": [
       "<selenium.webdriver.remote.webelement.WebElement (session=\"b3838fbc2a15eb828794fa3a15b514ce\", element=\"f.5EC331A7A0024EBAA4065E5A9C0F836C.d.61CEE0F69F952F6C0CC05E196D9A0D82.e.180\")>"
      ]
     },
     "execution_count": 98,
     "metadata": {},
     "output_type": "execute_result"
    }
   ],
   "source": [
    "# 태그로 찾기\n",
    "# 태그는 요소가 너무 많으므로 정확하게 대상을 찾을 때에는 권장 안함\n",
    "driver.find_element(By.TAG_NAME, 'div')"
   ]
  },
  {
   "cell_type": "code",
   "execution_count": 100,
   "id": "b826bdc9-59df-4dcc-8087-f6275dc8d440",
   "metadata": {
    "tags": []
   },
   "outputs": [],
   "source": [
    "# 여러개의 요소를 찾을 때\n",
    "links = driver.find_elements(By.CSS_SELECTOR, '.link_service')"
   ]
  },
  {
   "cell_type": "code",
   "execution_count": 102,
   "id": "89b11ae4-165e-4b4a-9742-65e45cdfc8df",
   "metadata": {
    "collapsed": true,
    "jupyter": {
     "outputs_hidden": true
    },
    "tags": []
   },
   "outputs": [
    {
     "name": "stdout",
     "output_type": "stream",
     "text": [
      "<selenium.webdriver.remote.webelement.WebElement (session=\"b3838fbc2a15eb828794fa3a15b514ce\", element=\"f.5EC331A7A0024EBAA4065E5A9C0F836C.d.61CEE0F69F952F6C0CC05E196D9A0D82.e.467\")>\n",
      "<selenium.webdriver.remote.webelement.WebElement (session=\"b3838fbc2a15eb828794fa3a15b514ce\", element=\"f.5EC331A7A0024EBAA4065E5A9C0F836C.d.61CEE0F69F952F6C0CC05E196D9A0D82.e.472\")>\n",
      "<selenium.webdriver.remote.webelement.WebElement (session=\"b3838fbc2a15eb828794fa3a15b514ce\", element=\"f.5EC331A7A0024EBAA4065E5A9C0F836C.d.61CEE0F69F952F6C0CC05E196D9A0D82.e.477\")>\n",
      "<selenium.webdriver.remote.webelement.WebElement (session=\"b3838fbc2a15eb828794fa3a15b514ce\", element=\"f.5EC331A7A0024EBAA4065E5A9C0F836C.d.61CEE0F69F952F6C0CC05E196D9A0D82.e.482\")>\n",
      "<selenium.webdriver.remote.webelement.WebElement (session=\"b3838fbc2a15eb828794fa3a15b514ce\", element=\"f.5EC331A7A0024EBAA4065E5A9C0F836C.d.61CEE0F69F952F6C0CC05E196D9A0D82.e.487\")>\n",
      "<selenium.webdriver.remote.webelement.WebElement (session=\"b3838fbc2a15eb828794fa3a15b514ce\", element=\"f.5EC331A7A0024EBAA4065E5A9C0F836C.d.61CEE0F69F952F6C0CC05E196D9A0D82.e.492\")>\n",
      "<selenium.webdriver.remote.webelement.WebElement (session=\"b3838fbc2a15eb828794fa3a15b514ce\", element=\"f.5EC331A7A0024EBAA4065E5A9C0F836C.d.61CEE0F69F952F6C0CC05E196D9A0D82.e.497\")>\n",
      "<selenium.webdriver.remote.webelement.WebElement (session=\"b3838fbc2a15eb828794fa3a15b514ce\", element=\"f.5EC331A7A0024EBAA4065E5A9C0F836C.d.61CEE0F69F952F6C0CC05E196D9A0D82.e.502\")>\n",
      "<selenium.webdriver.remote.webelement.WebElement (session=\"b3838fbc2a15eb828794fa3a15b514ce\", element=\"f.5EC331A7A0024EBAA4065E5A9C0F836C.d.61CEE0F69F952F6C0CC05E196D9A0D82.e.507\")>\n",
      "<selenium.webdriver.remote.webelement.WebElement (session=\"b3838fbc2a15eb828794fa3a15b514ce\", element=\"f.5EC331A7A0024EBAA4065E5A9C0F836C.d.61CEE0F69F952F6C0CC05E196D9A0D82.e.512\")>\n",
      "<selenium.webdriver.remote.webelement.WebElement (session=\"b3838fbc2a15eb828794fa3a15b514ce\", element=\"f.5EC331A7A0024EBAA4065E5A9C0F836C.d.61CEE0F69F952F6C0CC05E196D9A0D82.e.518\")>\n",
      "<selenium.webdriver.remote.webelement.WebElement (session=\"b3838fbc2a15eb828794fa3a15b514ce\", element=\"f.5EC331A7A0024EBAA4065E5A9C0F836C.d.61CEE0F69F952F6C0CC05E196D9A0D82.e.523\")>\n"
     ]
    }
   ],
   "source": [
    "for link in links:\n",
    "    print(link)"
   ]
  },
  {
   "cell_type": "code",
   "execution_count": 106,
   "id": "98d066e9-e13a-456b-ab58-e053f15eb402",
   "metadata": {
    "tags": []
   },
   "outputs": [
    {
     "data": {
      "text/plain": [
       "'https://mail.naver.com/'"
      ]
     },
     "execution_count": 106,
     "metadata": {},
     "output_type": "execute_result"
    }
   ],
   "source": [
    "driver.find_elements(By.CSS_SELECTOR, '.link_service')[0].get_attribute('href')"
   ]
  },
  {
   "cell_type": "code",
   "execution_count": 110,
   "id": "daf3be14-736d-46f8-8305-3d7b68d4e9ef",
   "metadata": {
    "tags": []
   },
   "outputs": [
    {
     "name": "stdout",
     "output_type": "stream",
     "text": [
      "https://mail.naver.com/\n",
      "https://cafe.naver.com/\n",
      "https://blog.naver.com/\n",
      "https://shopping.naver.com/home\n",
      "https://news.naver.com/\n",
      "https://finance.naver.com/\n",
      "https://land.naver.com/\n",
      "https://map.naver.com/\n",
      "https://comic.naver.com/\n",
      "https://chzzk.naver.com/\n",
      "https://www.naver.com/#\n",
      "https://siape.veta.naver.com/rd?rk=HFJN4b8ykWhYfw7eG0Xubg&eltts=DCLofzx%2FfvdZJBOKZHvNgg%3D%3D&elu=5BA297C9C3C09BC2A363AD20A2AF2280AA600BB0F1224856B1E3B0CD8C7D5F6341BB3F4A77A5F39CD5816E901BFB74C92B046500D36C473274A2DF28B9D9C604F0D8675FDAF22A996AAEFDEE92BA1FCD697E5F7ECC82BD74C279AA95D9F31FA9106C54B228F25590EF823CA4768D621930DE9513FAD9CD3EC5D5F708FBFC00BD55815596EE7293415CF82CB49F5E9FE51A0ED1A693EF16C30A00FBDA72F0764E7209A8FD67C774430DBD47E3F034432C92F547C7B3B86140F31458B88223EDBFEC38BD3EBA69E8DF7436D38385B60492F5B0620FF69F0DD4B5E1E335147C443A65EED66E3A851ECEDF4E1A88918480653F73200BECF984761F9DC82ED93A91FD4279499B6F16268D3359D06F3B3BA00BF2FD7FE60FD7B77C4E541A08D8FFFF5C089D243FC151F89C8B4B3FD3F5841E51B77AC722631354439E91A6B12454A5E7641088ED76EA726F88E20794A8F120DFA54A03E807DBE2A94B1B78B84F04285718616E1A9616759425AF29E4573EB585298CDCEB51D5EF0A29891C796393B6ED3EDA556A9953C05C3BFF1E8F98A09A25A9E5615C1BE99B7832338ED15070FE33E258846C453853AAFDDFE2A35DDAE09D&tr=ndp\n"
     ]
    }
   ],
   "source": [
    "links = driver.find_elements(By.CSS_SELECTOR, '.link_service')\n",
    "for link in links:\n",
    "    print(link.get_attribute('href'))"
   ]
  },
  {
   "cell_type": "markdown",
   "id": "9b257965-1c3f-4195-bce8-2df0c009dc40",
   "metadata": {},
   "source": [
    "## 자동 로그인 연습"
   ]
  },
  {
   "cell_type": "code",
   "execution_count": 171,
   "id": "5fb20adb-944e-4e31-81c4-1f7d175aea03",
   "metadata": {
    "tags": []
   },
   "outputs": [],
   "source": [
    "# 테스트용 html\n",
    "url = 'file:///C:/workspace/wassup3/02_Python_Collection/sample/signin.html'\n",
    "driver = webdriver.Chrome(options=options)\n",
    "driver.get(url)\n",
    "time.sleep(2)"
   ]
  },
  {
   "cell_type": "code",
   "execution_count": 193,
   "id": "d75b7d1d-c385-477a-bfe5-9cce40c923eb",
   "metadata": {
    "tags": []
   },
   "outputs": [],
   "source": [
    "username = driver.find_element(By.NAME, 'username')\n",
    "username.send_keys('korea')"
   ]
  },
  {
   "cell_type": "code",
   "execution_count": 197,
   "id": "8df34cd4-2bff-497c-90a0-89a31f90ef3a",
   "metadata": {
    "tags": []
   },
   "outputs": [],
   "source": [
    "password = driver.find_element(By.NAME, 'password')\n",
    "password.send_keys('1234')"
   ]
  },
  {
   "cell_type": "code",
   "execution_count": 177,
   "id": "eaf81bfa-69a0-4ce2-97ed-bf99caed20b1",
   "metadata": {
    "tags": []
   },
   "outputs": [],
   "source": [
    "login = driver.find_element(By.XPATH, '//*[@id=\"loginForm\"]/input[3]')\n",
    "login.click()"
   ]
  },
  {
   "cell_type": "code",
   "execution_count": 179,
   "id": "b15dd72e-f4ad-4137-97cd-b839ef66b373",
   "metadata": {
    "tags": []
   },
   "outputs": [],
   "source": [
    "driver.back()"
   ]
  },
  {
   "cell_type": "code",
   "execution_count": 181,
   "id": "02c8eb0e-46c4-4fcb-a566-9af861ca538a",
   "metadata": {
    "tags": []
   },
   "outputs": [],
   "source": [
    "login = driver.find_element(By.XPATH, '/html/body/form/input[3]')\n",
    "login.click()"
   ]
  },
  {
   "cell_type": "code",
   "execution_count": 183,
   "id": "16c06fe1-1158-4dbb-968c-10ae5bb62370",
   "metadata": {
    "tags": []
   },
   "outputs": [],
   "source": [
    "driver.back()"
   ]
  },
  {
   "cell_type": "code",
   "execution_count": 185,
   "id": "e84ae834-8e8d-423d-99c4-5b4b2cb6d7ba",
   "metadata": {
    "tags": []
   },
   "outputs": [],
   "source": [
    "login = driver.find_element(By.CSS_SELECTOR, '[value=Login]')\n",
    "login.click()"
   ]
  },
  {
   "cell_type": "code",
   "execution_count": 187,
   "id": "3bbb9133-3658-4a86-a928-1bb86e4002fb",
   "metadata": {
    "tags": []
   },
   "outputs": [],
   "source": [
    "driver.back()"
   ]
  },
  {
   "cell_type": "code",
   "execution_count": 195,
   "id": "a1ca5fb4-127f-468e-96de-d8e1a06519ec",
   "metadata": {
    "tags": []
   },
   "outputs": [],
   "source": [
    "username.clear()"
   ]
  },
  {
   "cell_type": "code",
   "execution_count": 199,
   "id": "5b18a2ee-4087-4830-93ff-d722b2a92bf6",
   "metadata": {
    "tags": []
   },
   "outputs": [],
   "source": [
    "password.clear()"
   ]
  },
  {
   "cell_type": "code",
   "execution_count": 201,
   "id": "4d6efb36-b068-464a-a130-6529c7d7e978",
   "metadata": {
    "tags": []
   },
   "outputs": [],
   "source": [
    "username = driver.find_element(By.NAME, 'username')\n",
    "username.send_keys('korea')\n",
    "password = driver.find_element(By.NAME, 'password')\n",
    "password.send_keys('1234')"
   ]
  },
  {
   "cell_type": "code",
   "execution_count": 203,
   "id": "d843e0dd-76d2-4e1f-93f6-1c51586b874b",
   "metadata": {
    "tags": []
   },
   "outputs": [],
   "source": [
    "username.submit()"
   ]
  },
  {
   "cell_type": "code",
   "execution_count": 205,
   "id": "327b3087-0541-4139-9255-709d3c8ea5c1",
   "metadata": {
    "tags": []
   },
   "outputs": [],
   "source": [
    "driver.back()"
   ]
  },
  {
   "cell_type": "code",
   "execution_count": 207,
   "id": "2a0b091b-b221-4a11-9cea-a9026bb74545",
   "metadata": {
    "tags": []
   },
   "outputs": [
    {
     "data": {
      "text/plain": [
       "'Are you sure you want to do this?'"
      ]
     },
     "execution_count": 207,
     "metadata": {},
     "output_type": "execute_result"
    }
   ],
   "source": [
    "driver.find_element(By.TAG_NAME, 'p').text"
   ]
  },
  {
   "cell_type": "code",
   "execution_count": 209,
   "id": "09fee01d-1d5b-465d-92f8-7b7cbb464eaf",
   "metadata": {
    "tags": []
   },
   "outputs": [
    {
     "data": {
      "text/plain": [
       "'<html><head></head><body>\\n        <h1> Sign In </h1>\\n        <form action=\"moved.html\" id=\"loginForm\">\\n            ID : <input name=\"username\" type=\"text\"> <br>\\n            Password : <input name=\"password\" type=\"password\"> <br>\\n\\n            <input name=\"continue\" type=\"submit\" value=\"Login\">\\n            <input name=\"continue\" type=\"button\" value=\"Clear\">\\n        \\n        </form>\\n\\n        <p>Are you sure you want to do this?</p>\\n        <a href=\"continue.html\">Continue</a>\\n        <a href=\"cancel.html\">Cancel</a>\\n\\n        <h1>Welcome</h1>\\n        <p>Site content goes here.</p>\\n        <p class=\"content\">Site content goes here.</p>\\n    \\n</body></html>'"
      ]
     },
     "execution_count": 209,
     "metadata": {},
     "output_type": "execute_result"
    }
   ],
   "source": [
    "# html 소스 가져오기\n",
    "driver.page_source"
   ]
  },
  {
   "cell_type": "code",
   "execution_count": 211,
   "id": "c1185a84-c2f0-4414-8bed-3b8d79deb643",
   "metadata": {
    "tags": []
   },
   "outputs": [],
   "source": [
    "driver.close()"
   ]
  },
  {
   "cell_type": "code",
   "execution_count": null,
   "id": "a3dcd7d7-4303-4ecb-8cc8-c88effd14633",
   "metadata": {},
   "outputs": [],
   "source": []
  }
 ],
 "metadata": {
  "kernelspec": {
   "display_name": "Python 3 (ipykernel)",
   "language": "python",
   "name": "python3"
  },
  "language_info": {
   "codemirror_mode": {
    "name": "ipython",
    "version": 3
   },
   "file_extension": ".py",
   "mimetype": "text/x-python",
   "name": "python",
   "nbconvert_exporter": "python",
   "pygments_lexer": "ipython3",
   "version": "3.11.7"
  }
 },
 "nbformat": 4,
 "nbformat_minor": 5
}
