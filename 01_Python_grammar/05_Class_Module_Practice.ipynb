{
 "cells": [
  {
   "cell_type": "markdown",
   "id": "100bc7e2-c6bc-4826-a0ab-034f01bb6354",
   "metadata": {
    "tags": []
   },
   "source": [
    "# 클래스(Class)"
   ]
  },
  {
   "cell_type": "code",
   "execution_count": 5,
   "id": "559bc578-90d8-4c95-b349-9efbcc8318e9",
   "metadata": {
    "tags": []
   },
   "outputs": [
    {
     "name": "stdout",
     "output_type": "stream",
     "text": [
      "3\n",
      "7\n"
     ]
    }
   ],
   "source": [
    "# 더하기\n",
    "result = 0\n",
    "\n",
    "def add(num):\n",
    "    global result\n",
    "    result += num  # 결괏값(result)에 입력값(num) 더하기\n",
    "    return result  # 결괏값 리턴\n",
    "\n",
    "print(add(3))\n",
    "print(add(4))"
   ]
  },
  {
   "cell_type": "code",
   "execution_count": 8,
   "id": "e0ab9dc5-aafb-467e-83bf-289c2d9ac958",
   "metadata": {
    "tags": []
   },
   "outputs": [
    {
     "name": "stdout",
     "output_type": "stream",
     "text": [
      "3\n",
      "7\n",
      "3\n",
      "10\n"
     ]
    }
   ],
   "source": [
    "result1 = 0\n",
    "result2 = 0\n",
    "\n",
    "def add1(num):  # 계산기1\n",
    "    global result1\n",
    "    result1 += num\n",
    "    return result1\n",
    "\n",
    "def add2(num):  # 계산기2\n",
    "    global result2\n",
    "    result2 += num\n",
    "    return result2\n",
    "\n",
    "print(add1(3))\n",
    "print(add1(4))\n",
    "print(add2(3))\n",
    "print(add2(7))"
   ]
  },
  {
   "cell_type": "code",
   "execution_count": 10,
   "id": "8d89dceb-7b1a-4b65-9a00-20a9165c53b3",
   "metadata": {
    "tags": []
   },
   "outputs": [
    {
     "name": "stdout",
     "output_type": "stream",
     "text": [
      "3\n",
      "7\n",
      "3\n",
      "10\n"
     ]
    }
   ],
   "source": [
    "class Calculator:\n",
    "    def __init__(self):\n",
    "        self.result = 0\n",
    "\n",
    "    def add(self, num):\n",
    "        self.result += num\n",
    "        return self.result\n",
    "\n",
    "cal1 = Calculator()\n",
    "cal2 = Calculator()\n",
    "\n",
    "print(cal1.add(3))\n",
    "print(cal1.add(4))\n",
    "print(cal2.add(3))\n",
    "print(cal2.add(7))"
   ]
  },
  {
   "cell_type": "markdown",
   "id": "4e2b09e8-df7a-48b6-96cf-465f0f7e3f57",
   "metadata": {},
   "source": [
    "## 클래스와 객체"
   ]
  },
  {
   "cell_type": "code",
   "execution_count": 13,
   "id": "9b8b7b86-c933-4793-aba0-bd4e36f133ae",
   "metadata": {
    "tags": []
   },
   "outputs": [],
   "source": [
    "class Cookie:\n",
    "    pass"
   ]
  },
  {
   "cell_type": "code",
   "execution_count": 15,
   "id": "8e440628-2e6a-461d-9f49-4925f41d50eb",
   "metadata": {
    "tags": []
   },
   "outputs": [
    {
     "data": {
      "text/plain": [
       "__main__.Cookie"
      ]
     },
     "execution_count": 15,
     "metadata": {},
     "output_type": "execute_result"
    }
   ],
   "source": [
    "type(Cookie())"
   ]
  },
  {
   "cell_type": "code",
   "execution_count": 17,
   "id": "8cff76fe-3808-4842-97cf-322cea26d8cf",
   "metadata": {
    "tags": []
   },
   "outputs": [
    {
     "name": "stdout",
     "output_type": "stream",
     "text": [
      "<__main__.Cookie object at 0x000002003C884590> <class '__main__.Cookie'>\n"
     ]
    }
   ],
   "source": [
    "a = Cookie()\n",
    "print(a, type(a))"
   ]
  },
  {
   "cell_type": "markdown",
   "id": "465ee88a-f659-4e65-9693-70766ecc1624",
   "metadata": {
    "tags": []
   },
   "source": [
    "## 사칙 연산 클래스 만들기"
   ]
  },
  {
   "cell_type": "code",
   "execution_count": 22,
   "id": "50903eba-a09f-4e2a-90d3-73838eb154bf",
   "metadata": {
    "tags": []
   },
   "outputs": [],
   "source": [
    "class FourCal:\n",
    "    pass"
   ]
  },
  {
   "cell_type": "code",
   "execution_count": 24,
   "id": "d067ebd0-cc47-4eae-aa98-751db60190ab",
   "metadata": {
    "tags": []
   },
   "outputs": [
    {
     "data": {
      "text/plain": [
       "__main__.FourCal"
      ]
     },
     "execution_count": 24,
     "metadata": {},
     "output_type": "execute_result"
    }
   ],
   "source": [
    "a = FourCal()\n",
    "type(a)"
   ]
  },
  {
   "cell_type": "code",
   "execution_count": 26,
   "id": "2631e2b0-4fa3-4d78-af4f-4be32a97aec7",
   "metadata": {
    "tags": []
   },
   "outputs": [],
   "source": [
    "# 객체에 연산할 숫자를 지정하기\n",
    "class FourCal:\n",
    "    def setdata(self, first, second): # method(=function) # 매개변수\n",
    "        self.first = first            # 메서드의 수행문\n",
    "        self.second = second          # 메서드의 수행문"
   ]
  },
  {
   "cell_type": "code",
   "execution_count": 28,
   "id": "19f8a4a6-cfce-48e6-9605-17c109e94350",
   "metadata": {
    "tags": []
   },
   "outputs": [],
   "source": [
    "# function\n",
    "def setdata(self, first, second):\n",
    "        self.first = first\n",
    "        self.second = second"
   ]
  },
  {
   "cell_type": "code",
   "execution_count": 30,
   "id": "ab3f89c2-c261-446d-9cc2-05e051788794",
   "metadata": {
    "tags": []
   },
   "outputs": [],
   "source": [
    "a = FourCal()\n",
    "a.setdata(4, 2)"
   ]
  },
  {
   "cell_type": "code",
   "execution_count": 32,
   "id": "a72971d8-9fe0-4101-a22b-67b797f7190e",
   "metadata": {
    "tags": []
   },
   "outputs": [],
   "source": [
    "# 매서드를 호출하는 또다른 방법\n",
    "a = FourCal()\n",
    "FourCal.setdata(a, 4, 2)"
   ]
  },
  {
   "cell_type": "markdown",
   "id": "15ba43e2-3d17-4d3d-a6d6-924dc1368e0a",
   "metadata": {
    "tags": []
   },
   "source": [
    "## setdata 매서드의 수행문"
   ]
  },
  {
   "cell_type": "code",
   "execution_count": 39,
   "id": "a42016fc-92b6-47e4-8f2b-ff345a2dbc8b",
   "metadata": {
    "tags": []
   },
   "outputs": [
    {
     "data": {
      "text/plain": [
       "4"
      ]
     },
     "execution_count": 39,
     "metadata": {},
     "output_type": "execute_result"
    }
   ],
   "source": [
    "a.first"
   ]
  },
  {
   "cell_type": "code",
   "execution_count": 41,
   "id": "e9e0e0ef-563b-483d-a531-6b4a32d1d6cb",
   "metadata": {
    "tags": []
   },
   "outputs": [
    {
     "data": {
      "text/plain": [
       "2"
      ]
     },
     "execution_count": 41,
     "metadata": {},
     "output_type": "execute_result"
    }
   ],
   "source": [
    "a.second"
   ]
  },
  {
   "cell_type": "code",
   "execution_count": 43,
   "id": "c5e54fb8-dd2b-4724-ac3a-41efc3db53c7",
   "metadata": {
    "tags": []
   },
   "outputs": [
    {
     "data": {
      "text/plain": [
       "<bound method FourCal.setdata of <__main__.FourCal object at 0x000002003F8BD690>>"
      ]
     },
     "execution_count": 43,
     "metadata": {},
     "output_type": "execute_result"
    }
   ],
   "source": [
    "a.setdata"
   ]
  },
  {
   "cell_type": "code",
   "execution_count": 45,
   "id": "ef7dfa9b-d6d9-4448-abf6-ed19d52f48bd",
   "metadata": {
    "tags": []
   },
   "outputs": [],
   "source": [
    "a = FourCal()\n",
    "b = FourCal()"
   ]
  },
  {
   "cell_type": "code",
   "execution_count": 47,
   "id": "ddfc2808-05a0-4e42-807b-69598bc6600e",
   "metadata": {
    "tags": []
   },
   "outputs": [
    {
     "data": {
      "text/plain": [
       "4"
      ]
     },
     "execution_count": 47,
     "metadata": {},
     "output_type": "execute_result"
    }
   ],
   "source": [
    "a.setdata(4, 2)\n",
    "a.first"
   ]
  },
  {
   "cell_type": "code",
   "execution_count": 49,
   "id": "6f85c007-4966-4a46-8aa6-a746ca71ef01",
   "metadata": {
    "tags": []
   },
   "outputs": [
    {
     "data": {
      "text/plain": [
       "3"
      ]
     },
     "execution_count": 49,
     "metadata": {},
     "output_type": "execute_result"
    }
   ],
   "source": [
    "b.setdata(3, 7)\n",
    "b.first"
   ]
  },
  {
   "cell_type": "markdown",
   "id": "1cd2da3b-587b-4044-b9f9-ed6a0bd75a3e",
   "metadata": {},
   "source": [
    "## 더하기 기능 만들기"
   ]
  },
  {
   "cell_type": "code",
   "execution_count": 61,
   "id": "057d22cc-9019-4252-bd97-60a424fba380",
   "metadata": {
    "tags": []
   },
   "outputs": [],
   "source": [
    "class FourCal:\n",
    "    def setdata(self, first, second):\n",
    "        self.first = first\n",
    "        self.second = second\n",
    "        \n",
    "    def add(self):\n",
    "        result = self.first + self.second\n",
    "        return result"
   ]
  },
  {
   "cell_type": "code",
   "execution_count": 63,
   "id": "b1880e07-09d3-4e85-9b35-14eb05e7681e",
   "metadata": {
    "tags": []
   },
   "outputs": [],
   "source": [
    "a = FourCal()\n",
    "a.setdata(4, 2)"
   ]
  },
  {
   "cell_type": "code",
   "execution_count": 65,
   "id": "3d2ede59-5ae9-43b9-b1b0-4f4fd55e0bf6",
   "metadata": {
    "tags": []
   },
   "outputs": [
    {
     "data": {
      "text/plain": [
       "6"
      ]
     },
     "execution_count": 65,
     "metadata": {},
     "output_type": "execute_result"
    }
   ],
   "source": [
    "a.add()"
   ]
  },
  {
   "cell_type": "code",
   "execution_count": 102,
   "id": "cb73ab3f-bd5c-4354-a9d4-01f5745b7191",
   "metadata": {
    "tags": []
   },
   "outputs": [],
   "source": [
    "class FourCal:\n",
    "    def setdata(self, first, second):\n",
    "        self.first = first\n",
    "        self.second = second\n",
    "        \n",
    "    def mul(self):\n",
    "        result = self.first * self.second\n",
    "        return result"
   ]
  },
  {
   "cell_type": "code",
   "execution_count": 106,
   "id": "5316f413-6fbf-463d-9789-0c576681a8a5",
   "metadata": {
    "tags": []
   },
   "outputs": [],
   "source": [
    "a = FourCal()\n",
    "a.setdata(4, 2)"
   ]
  },
  {
   "cell_type": "code",
   "execution_count": 108,
   "id": "2671ab7c-352a-479d-a817-940930da1141",
   "metadata": {
    "tags": []
   },
   "outputs": [
    {
     "data": {
      "text/plain": [
       "<bound method FourCal.mul of <__main__.FourCal object at 0x00000200408AB950>>"
      ]
     },
     "execution_count": 108,
     "metadata": {},
     "output_type": "execute_result"
    }
   ],
   "source": [
    "a.mul"
   ]
  },
  {
   "cell_type": "code",
   "execution_count": 110,
   "id": "0afedf17-8e1e-4c73-b716-d296a5d1138f",
   "metadata": {
    "tags": []
   },
   "outputs": [],
   "source": [
    "class FourCal:\n",
    "    def setdata(self, first, second):\n",
    "        self.first = first\n",
    "        self.second = second\n",
    "        \n",
    "    def sub(self):\n",
    "        result = self.first - self.second\n",
    "        return result"
   ]
  },
  {
   "cell_type": "code",
   "execution_count": 112,
   "id": "70984c50-a6ab-499f-8e5b-4f8752971dfe",
   "metadata": {
    "tags": []
   },
   "outputs": [],
   "source": [
    "a = FourCal()\n",
    "a.setdata(4, 2)"
   ]
  },
  {
   "cell_type": "code",
   "execution_count": 114,
   "id": "2ce41ae3-8319-493e-b1af-ef39c1bd6b5d",
   "metadata": {
    "tags": []
   },
   "outputs": [
    {
     "data": {
      "text/plain": [
       "<bound method FourCal.sub of <__main__.FourCal object at 0x000002003C7D0690>>"
      ]
     },
     "execution_count": 114,
     "metadata": {},
     "output_type": "execute_result"
    }
   ],
   "source": [
    "a.sub"
   ]
  },
  {
   "cell_type": "code",
   "execution_count": 116,
   "id": "6e47a6a2-1706-41e1-9f21-3c368cbff51d",
   "metadata": {
    "tags": []
   },
   "outputs": [],
   "source": [
    "class FourCal:\n",
    "    def setdata(self, first, second):\n",
    "        self.first = first\n",
    "        self.second = second\n",
    "        \n",
    "    def div(self):\n",
    "        result = self.first / self.second\n",
    "        return result"
   ]
  },
  {
   "cell_type": "code",
   "execution_count": 118,
   "id": "42bbbe18-664a-4208-a892-e6caa14f6cd3",
   "metadata": {
    "tags": []
   },
   "outputs": [],
   "source": [
    "a = FourCal()\n",
    "a.setdata(4, 2)"
   ]
  },
  {
   "cell_type": "code",
   "execution_count": 120,
   "id": "734107b6-5984-4422-8921-1ac5b1481eac",
   "metadata": {
    "tags": []
   },
   "outputs": [
    {
     "data": {
      "text/plain": [
       "<bound method FourCal.div of <__main__.FourCal object at 0x000002004009BD50>>"
      ]
     },
     "execution_count": 120,
     "metadata": {},
     "output_type": "execute_result"
    }
   ],
   "source": [
    "a.div"
   ]
  },
  {
   "cell_type": "code",
   "execution_count": null,
   "id": "848763bd-edb5-4f77-a88b-c036f145adc1",
   "metadata": {},
   "outputs": [],
   "source": []
  }
 ],
 "metadata": {
  "kernelspec": {
   "display_name": "Python 3 (ipykernel)",
   "language": "python",
   "name": "python3"
  },
  "language_info": {
   "codemirror_mode": {
    "name": "ipython",
    "version": 3
   },
   "file_extension": ".py",
   "mimetype": "text/x-python",
   "name": "python",
   "nbconvert_exporter": "python",
   "pygments_lexer": "ipython3",
   "version": "3.11.7"
  }
 },
 "nbformat": 4,
 "nbformat_minor": 5
}
